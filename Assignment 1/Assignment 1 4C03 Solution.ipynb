{
 "cells": [
  {
   "cell_type": "markdown",
   "id": "1cfb6bb1",
   "metadata": {},
   "source": [
    "# IBEHS 4C03 - Assignment 2 Answers & Dicussion"
   ]
  },
  {
   "cell_type": "markdown",
   "id": "f74fc7a6",
   "metadata": {},
   "source": [
    "Hello everyone, this is a document that provides an overview of the expected answers for the assignment 1. It also includes common mistakes that were observed on the assignment. "
   ]
  },
  {
   "cell_type": "code",
   "execution_count": 2,
   "id": "e9949e21",
   "metadata": {},
   "outputs": [],
   "source": [
    "import numpy as np\n",
    "import pandas as pd\n",
    "import matplotlib.pyplot as plt\n",
    "import seaborn as sns"
   ]
  },
  {
   "cell_type": "markdown",
   "id": "ebefebc7",
   "metadata": {},
   "source": [
    "## Question 1"
   ]
  },
  {
   "cell_type": "markdown",
   "id": "b1f6e55e",
   "metadata": {},
   "source": [
    "### Description of Dataset"
   ]
  },
  {
   "cell_type": "code",
   "execution_count": 14,
   "id": "65a17262",
   "metadata": {},
   "outputs": [
    {
     "data": {
      "text/html": [
       "<div>\n",
       "<style scoped>\n",
       "    .dataframe tbody tr th:only-of-type {\n",
       "        vertical-align: middle;\n",
       "    }\n",
       "\n",
       "    .dataframe tbody tr th {\n",
       "        vertical-align: top;\n",
       "    }\n",
       "\n",
       "    .dataframe thead th {\n",
       "        text-align: right;\n",
       "    }\n",
       "</style>\n",
       "<table border=\"1\" class=\"dataframe\">\n",
       "  <thead>\n",
       "    <tr style=\"text-align: right;\">\n",
       "      <th></th>\n",
       "      <th>Id</th>\n",
       "      <th>Dur_stay</th>\n",
       "      <th>Age</th>\n",
       "      <th>Sex</th>\n",
       "      <th>Temp</th>\n",
       "      <th>WBC</th>\n",
       "      <th>Antibio</th>\n",
       "      <th>Bact_cul</th>\n",
       "      <th>Service</th>\n",
       "    </tr>\n",
       "  </thead>\n",
       "  <tbody>\n",
       "    <tr>\n",
       "      <th>count</th>\n",
       "      <td>18.000000</td>\n",
       "      <td>18.000000</td>\n",
       "      <td>18.000000</td>\n",
       "      <td>18.000000</td>\n",
       "      <td>18.000000</td>\n",
       "      <td>18.000000</td>\n",
       "      <td>18.0</td>\n",
       "      <td>18.000000</td>\n",
       "      <td>18.000000</td>\n",
       "    </tr>\n",
       "    <tr>\n",
       "      <th>mean</th>\n",
       "      <td>12.611111</td>\n",
       "      <td>7.444444</td>\n",
       "      <td>40.666667</td>\n",
       "      <td>1.666667</td>\n",
       "      <td>98.261111</td>\n",
       "      <td>7.333333</td>\n",
       "      <td>0.0</td>\n",
       "      <td>1.777778</td>\n",
       "      <td>1.611111</td>\n",
       "    </tr>\n",
       "    <tr>\n",
       "      <th>std</th>\n",
       "      <td>7.964176</td>\n",
       "      <td>3.697729</td>\n",
       "      <td>19.831644</td>\n",
       "      <td>0.485071</td>\n",
       "      <td>0.446080</td>\n",
       "      <td>2.890146</td>\n",
       "      <td>0.0</td>\n",
       "      <td>0.427793</td>\n",
       "      <td>0.501631</td>\n",
       "    </tr>\n",
       "    <tr>\n",
       "      <th>min</th>\n",
       "      <td>1.000000</td>\n",
       "      <td>3.000000</td>\n",
       "      <td>4.000000</td>\n",
       "      <td>1.000000</td>\n",
       "      <td>97.600000</td>\n",
       "      <td>3.000000</td>\n",
       "      <td>0.0</td>\n",
       "      <td>1.000000</td>\n",
       "      <td>1.000000</td>\n",
       "    </tr>\n",
       "    <tr>\n",
       "      <th>25%</th>\n",
       "      <td>5.750000</td>\n",
       "      <td>5.000000</td>\n",
       "      <td>26.250000</td>\n",
       "      <td>1.000000</td>\n",
       "      <td>98.000000</td>\n",
       "      <td>5.000000</td>\n",
       "      <td>0.0</td>\n",
       "      <td>2.000000</td>\n",
       "      <td>1.000000</td>\n",
       "    </tr>\n",
       "    <tr>\n",
       "      <th>50%</th>\n",
       "      <td>11.500000</td>\n",
       "      <td>6.500000</td>\n",
       "      <td>42.000000</td>\n",
       "      <td>2.000000</td>\n",
       "      <td>98.200000</td>\n",
       "      <td>7.000000</td>\n",
       "      <td>0.0</td>\n",
       "      <td>2.000000</td>\n",
       "      <td>2.000000</td>\n",
       "    </tr>\n",
       "    <tr>\n",
       "      <th>75%</th>\n",
       "      <td>19.500000</td>\n",
       "      <td>9.750000</td>\n",
       "      <td>54.500000</td>\n",
       "      <td>2.000000</td>\n",
       "      <td>98.575000</td>\n",
       "      <td>9.750000</td>\n",
       "      <td>0.0</td>\n",
       "      <td>2.000000</td>\n",
       "      <td>2.000000</td>\n",
       "    </tr>\n",
       "    <tr>\n",
       "      <th>max</th>\n",
       "      <td>25.000000</td>\n",
       "      <td>17.000000</td>\n",
       "      <td>73.000000</td>\n",
       "      <td>2.000000</td>\n",
       "      <td>99.000000</td>\n",
       "      <td>12.000000</td>\n",
       "      <td>0.0</td>\n",
       "      <td>2.000000</td>\n",
       "      <td>2.000000</td>\n",
       "    </tr>\n",
       "  </tbody>\n",
       "</table>\n",
       "</div>"
      ],
      "text/plain": [
       "              Id   Dur_stay        Age        Sex       Temp        WBC  \\\n",
       "count  18.000000  18.000000  18.000000  18.000000  18.000000  18.000000   \n",
       "mean   12.611111   7.444444  40.666667   1.666667  98.261111   7.333333   \n",
       "std     7.964176   3.697729  19.831644   0.485071   0.446080   2.890146   \n",
       "min     1.000000   3.000000   4.000000   1.000000  97.600000   3.000000   \n",
       "25%     5.750000   5.000000  26.250000   1.000000  98.000000   5.000000   \n",
       "50%    11.500000   6.500000  42.000000   2.000000  98.200000   7.000000   \n",
       "75%    19.500000   9.750000  54.500000   2.000000  98.575000   9.750000   \n",
       "max    25.000000  17.000000  73.000000   2.000000  99.000000  12.000000   \n",
       "\n",
       "       Antibio   Bact_cul    Service  \n",
       "count     18.0  18.000000  18.000000  \n",
       "mean       0.0   1.777778   1.611111  \n",
       "std        0.0   0.427793   0.501631  \n",
       "min        0.0   1.000000   1.000000  \n",
       "25%        0.0   2.000000   1.000000  \n",
       "50%        0.0   2.000000   2.000000  \n",
       "75%        0.0   2.000000   2.000000  \n",
       "max        0.0   2.000000   2.000000  "
      ]
     },
     "execution_count": 14,
     "metadata": {},
     "output_type": "execute_result"
    }
   ],
   "source": [
    "# Import Dataset\n",
    "hospital = pd.read_csv('hospital.csv')\n",
    "# Define 2 Subsamples\n",
    "YesAntiBiotics = hospital.query('Antibio == 1')\n",
    "NoAntiBiotics = hospital.query('Antibio == 0')"
   ]
  },
  {
   "cell_type": "code",
   "execution_count": 15,
   "id": "f6e17c39",
   "metadata": {},
   "outputs": [
    {
     "data": {
      "text/html": [
       "<div>\n",
       "<style scoped>\n",
       "    .dataframe tbody tr th:only-of-type {\n",
       "        vertical-align: middle;\n",
       "    }\n",
       "\n",
       "    .dataframe tbody tr th {\n",
       "        vertical-align: top;\n",
       "    }\n",
       "\n",
       "    .dataframe thead th {\n",
       "        text-align: right;\n",
       "    }\n",
       "</style>\n",
       "<table border=\"1\" class=\"dataframe\">\n",
       "  <thead>\n",
       "    <tr style=\"text-align: right;\">\n",
       "      <th></th>\n",
       "      <th>Id</th>\n",
       "      <th>Dur_stay</th>\n",
       "      <th>Age</th>\n",
       "      <th>Sex</th>\n",
       "      <th>Temp</th>\n",
       "      <th>WBC</th>\n",
       "      <th>Antibio</th>\n",
       "      <th>Bact_cul</th>\n",
       "      <th>Service</th>\n",
       "    </tr>\n",
       "  </thead>\n",
       "  <tbody>\n",
       "    <tr>\n",
       "      <th>count</th>\n",
       "      <td>7.000000</td>\n",
       "      <td>7.000000</td>\n",
       "      <td>7.000000</td>\n",
       "      <td>7.000000</td>\n",
       "      <td>7.000000</td>\n",
       "      <td>7.000000</td>\n",
       "      <td>7.0</td>\n",
       "      <td>7.000000</td>\n",
       "      <td>7.000000</td>\n",
       "    </tr>\n",
       "    <tr>\n",
       "      <th>mean</th>\n",
       "      <td>14.000000</td>\n",
       "      <td>11.571429</td>\n",
       "      <td>42.714286</td>\n",
       "      <td>1.285714</td>\n",
       "      <td>98.428571</td>\n",
       "      <td>9.142857</td>\n",
       "      <td>1.0</td>\n",
       "      <td>1.714286</td>\n",
       "      <td>1.714286</td>\n",
       "    </tr>\n",
       "    <tr>\n",
       "      <th>std</th>\n",
       "      <td>5.944185</td>\n",
       "      <td>8.810167</td>\n",
       "      <td>22.328713</td>\n",
       "      <td>0.487950</td>\n",
       "      <td>1.126520</td>\n",
       "      <td>3.848314</td>\n",
       "      <td>0.0</td>\n",
       "      <td>0.487950</td>\n",
       "      <td>0.487950</td>\n",
       "    </tr>\n",
       "    <tr>\n",
       "      <th>min</th>\n",
       "      <td>6.000000</td>\n",
       "      <td>3.000000</td>\n",
       "      <td>19.000000</td>\n",
       "      <td>1.000000</td>\n",
       "      <td>96.800000</td>\n",
       "      <td>5.000000</td>\n",
       "      <td>1.0</td>\n",
       "      <td>1.000000</td>\n",
       "      <td>1.000000</td>\n",
       "    </tr>\n",
       "    <tr>\n",
       "      <th>25%</th>\n",
       "      <td>10.000000</td>\n",
       "      <td>7.500000</td>\n",
       "      <td>27.500000</td>\n",
       "      <td>1.000000</td>\n",
       "      <td>97.700000</td>\n",
       "      <td>6.000000</td>\n",
       "      <td>1.0</td>\n",
       "      <td>1.500000</td>\n",
       "      <td>1.500000</td>\n",
       "    </tr>\n",
       "    <tr>\n",
       "      <th>50%</th>\n",
       "      <td>14.000000</td>\n",
       "      <td>8.000000</td>\n",
       "      <td>36.000000</td>\n",
       "      <td>1.000000</td>\n",
       "      <td>98.600000</td>\n",
       "      <td>8.000000</td>\n",
       "      <td>1.0</td>\n",
       "      <td>2.000000</td>\n",
       "      <td>2.000000</td>\n",
       "    </tr>\n",
       "    <tr>\n",
       "      <th>75%</th>\n",
       "      <td>18.000000</td>\n",
       "      <td>12.500000</td>\n",
       "      <td>53.500000</td>\n",
       "      <td>1.500000</td>\n",
       "      <td>99.350000</td>\n",
       "      <td>12.500000</td>\n",
       "      <td>1.0</td>\n",
       "      <td>2.000000</td>\n",
       "      <td>2.000000</td>\n",
       "    </tr>\n",
       "    <tr>\n",
       "      <th>max</th>\n",
       "      <td>22.000000</td>\n",
       "      <td>30.000000</td>\n",
       "      <td>82.000000</td>\n",
       "      <td>2.000000</td>\n",
       "      <td>99.500000</td>\n",
       "      <td>14.000000</td>\n",
       "      <td>1.0</td>\n",
       "      <td>2.000000</td>\n",
       "      <td>2.000000</td>\n",
       "    </tr>\n",
       "  </tbody>\n",
       "</table>\n",
       "</div>"
      ],
      "text/plain": [
       "              Id   Dur_stay        Age       Sex       Temp        WBC  \\\n",
       "count   7.000000   7.000000   7.000000  7.000000   7.000000   7.000000   \n",
       "mean   14.000000  11.571429  42.714286  1.285714  98.428571   9.142857   \n",
       "std     5.944185   8.810167  22.328713  0.487950   1.126520   3.848314   \n",
       "min     6.000000   3.000000  19.000000  1.000000  96.800000   5.000000   \n",
       "25%    10.000000   7.500000  27.500000  1.000000  97.700000   6.000000   \n",
       "50%    14.000000   8.000000  36.000000  1.000000  98.600000   8.000000   \n",
       "75%    18.000000  12.500000  53.500000  1.500000  99.350000  12.500000   \n",
       "max    22.000000  30.000000  82.000000  2.000000  99.500000  14.000000   \n",
       "\n",
       "       Antibio  Bact_cul   Service  \n",
       "count      7.0  7.000000  7.000000  \n",
       "mean       1.0  1.714286  1.714286  \n",
       "std        0.0  0.487950  0.487950  \n",
       "min        1.0  1.000000  1.000000  \n",
       "25%        1.0  1.500000  1.500000  \n",
       "50%        1.0  2.000000  2.000000  \n",
       "75%        1.0  2.000000  2.000000  \n",
       "max        1.0  2.000000  2.000000  "
      ]
     },
     "execution_count": 15,
     "metadata": {},
     "output_type": "execute_result"
    }
   ],
   "source": [
    "# Mean, 5 Number Summary Information, Standard Deciation and Variance for Antibiotics\n",
    "YesAntiBiotics.describe()"
   ]
  },
  {
   "cell_type": "code",
   "execution_count": 16,
   "id": "5a5d944f",
   "metadata": {},
   "outputs": [
    {
     "data": {
      "text/html": [
       "<div>\n",
       "<style scoped>\n",
       "    .dataframe tbody tr th:only-of-type {\n",
       "        vertical-align: middle;\n",
       "    }\n",
       "\n",
       "    .dataframe tbody tr th {\n",
       "        vertical-align: top;\n",
       "    }\n",
       "\n",
       "    .dataframe thead th {\n",
       "        text-align: right;\n",
       "    }\n",
       "</style>\n",
       "<table border=\"1\" class=\"dataframe\">\n",
       "  <thead>\n",
       "    <tr style=\"text-align: right;\">\n",
       "      <th></th>\n",
       "      <th>Id</th>\n",
       "      <th>Dur_stay</th>\n",
       "      <th>Age</th>\n",
       "      <th>Sex</th>\n",
       "      <th>Temp</th>\n",
       "      <th>WBC</th>\n",
       "      <th>Antibio</th>\n",
       "      <th>Bact_cul</th>\n",
       "      <th>Service</th>\n",
       "    </tr>\n",
       "  </thead>\n",
       "  <tbody>\n",
       "    <tr>\n",
       "      <th>count</th>\n",
       "      <td>18.000000</td>\n",
       "      <td>18.000000</td>\n",
       "      <td>18.000000</td>\n",
       "      <td>18.000000</td>\n",
       "      <td>18.000000</td>\n",
       "      <td>18.000000</td>\n",
       "      <td>18.0</td>\n",
       "      <td>18.000000</td>\n",
       "      <td>18.000000</td>\n",
       "    </tr>\n",
       "    <tr>\n",
       "      <th>mean</th>\n",
       "      <td>12.611111</td>\n",
       "      <td>7.444444</td>\n",
       "      <td>40.666667</td>\n",
       "      <td>1.666667</td>\n",
       "      <td>98.261111</td>\n",
       "      <td>7.333333</td>\n",
       "      <td>0.0</td>\n",
       "      <td>1.777778</td>\n",
       "      <td>1.611111</td>\n",
       "    </tr>\n",
       "    <tr>\n",
       "      <th>std</th>\n",
       "      <td>7.964176</td>\n",
       "      <td>3.697729</td>\n",
       "      <td>19.831644</td>\n",
       "      <td>0.485071</td>\n",
       "      <td>0.446080</td>\n",
       "      <td>2.890146</td>\n",
       "      <td>0.0</td>\n",
       "      <td>0.427793</td>\n",
       "      <td>0.501631</td>\n",
       "    </tr>\n",
       "    <tr>\n",
       "      <th>min</th>\n",
       "      <td>1.000000</td>\n",
       "      <td>3.000000</td>\n",
       "      <td>4.000000</td>\n",
       "      <td>1.000000</td>\n",
       "      <td>97.600000</td>\n",
       "      <td>3.000000</td>\n",
       "      <td>0.0</td>\n",
       "      <td>1.000000</td>\n",
       "      <td>1.000000</td>\n",
       "    </tr>\n",
       "    <tr>\n",
       "      <th>25%</th>\n",
       "      <td>5.750000</td>\n",
       "      <td>5.000000</td>\n",
       "      <td>26.250000</td>\n",
       "      <td>1.000000</td>\n",
       "      <td>98.000000</td>\n",
       "      <td>5.000000</td>\n",
       "      <td>0.0</td>\n",
       "      <td>2.000000</td>\n",
       "      <td>1.000000</td>\n",
       "    </tr>\n",
       "    <tr>\n",
       "      <th>50%</th>\n",
       "      <td>11.500000</td>\n",
       "      <td>6.500000</td>\n",
       "      <td>42.000000</td>\n",
       "      <td>2.000000</td>\n",
       "      <td>98.200000</td>\n",
       "      <td>7.000000</td>\n",
       "      <td>0.0</td>\n",
       "      <td>2.000000</td>\n",
       "      <td>2.000000</td>\n",
       "    </tr>\n",
       "    <tr>\n",
       "      <th>75%</th>\n",
       "      <td>19.500000</td>\n",
       "      <td>9.750000</td>\n",
       "      <td>54.500000</td>\n",
       "      <td>2.000000</td>\n",
       "      <td>98.575000</td>\n",
       "      <td>9.750000</td>\n",
       "      <td>0.0</td>\n",
       "      <td>2.000000</td>\n",
       "      <td>2.000000</td>\n",
       "    </tr>\n",
       "    <tr>\n",
       "      <th>max</th>\n",
       "      <td>25.000000</td>\n",
       "      <td>17.000000</td>\n",
       "      <td>73.000000</td>\n",
       "      <td>2.000000</td>\n",
       "      <td>99.000000</td>\n",
       "      <td>12.000000</td>\n",
       "      <td>0.0</td>\n",
       "      <td>2.000000</td>\n",
       "      <td>2.000000</td>\n",
       "    </tr>\n",
       "  </tbody>\n",
       "</table>\n",
       "</div>"
      ],
      "text/plain": [
       "              Id   Dur_stay        Age        Sex       Temp        WBC  \\\n",
       "count  18.000000  18.000000  18.000000  18.000000  18.000000  18.000000   \n",
       "mean   12.611111   7.444444  40.666667   1.666667  98.261111   7.333333   \n",
       "std     7.964176   3.697729  19.831644   0.485071   0.446080   2.890146   \n",
       "min     1.000000   3.000000   4.000000   1.000000  97.600000   3.000000   \n",
       "25%     5.750000   5.000000  26.250000   1.000000  98.000000   5.000000   \n",
       "50%    11.500000   6.500000  42.000000   2.000000  98.200000   7.000000   \n",
       "75%    19.500000   9.750000  54.500000   2.000000  98.575000   9.750000   \n",
       "max    25.000000  17.000000  73.000000   2.000000  99.000000  12.000000   \n",
       "\n",
       "       Antibio   Bact_cul    Service  \n",
       "count     18.0  18.000000  18.000000  \n",
       "mean       0.0   1.777778   1.611111  \n",
       "std        0.0   0.427793   0.501631  \n",
       "min        0.0   1.000000   1.000000  \n",
       "25%        0.0   2.000000   1.000000  \n",
       "50%        0.0   2.000000   2.000000  \n",
       "75%        0.0   2.000000   2.000000  \n",
       "max        0.0   2.000000   2.000000  "
      ]
     },
     "execution_count": 16,
     "metadata": {},
     "output_type": "execute_result"
    }
   ],
   "source": [
    "# Mean, 5 Number Summary Information, Standard Deciation and Variance for No Antibiotics\n",
    "NoAntiBiotics.describe()"
   ]
  },
  {
   "cell_type": "markdown",
   "id": "681a89cf",
   "metadata": {},
   "source": [
    "### Creating Boxplots"
   ]
  },
  {
   "cell_type": "code",
   "execution_count": 17,
   "id": "e63c8eaa",
   "metadata": {},
   "outputs": [
    {
     "data": {
      "image/png": "[encoded data removed]",
      "text/plain": [
       "<Figure size 432x288 with 1 Axes>"
      ]
     },
     "metadata": {},
     "output_type": "display_data"
    }
   ],
   "source": [
    "# Creating Histograms for both plots using seaborn\n",
    "sns.set_style(\"white\")\n",
    "ax1 = sns.boxplot(x=hospital[\"Antibio\"], y=hospital[\"Dur_stay\"], whis=1.5)"
   ]
  },
  {
   "cell_type": "markdown",
   "id": "00253495",
   "metadata": {},
   "source": [
    "### Boxplot by Hand\n",
    "This an example for the expectation for boxplot drawn by hand and labelled."
   ]
  },
  {
   "cell_type": "markdown",
   "id": "b2e232ae",
   "metadata": {},
   "source": [
    "### Creating Histogram"
   ]
  },
  {
   "cell_type": "code",
   "execution_count": 18,
   "id": "7f33adf7",
   "metadata": {},
   "outputs": [
    {
     "data": {
      "text/plain": [
       "Text(0, 0.5, 'Duration of Hospital Stay')"
      ]
     },
     "execution_count": 18,
     "metadata": {},
     "output_type": "execute_result"
    },
    {
     "data": {
      "image/png": "[encoded data removed]",
      "text/plain": [
       "<Figure size 432x288 with 1 Axes>"
      ]
     },
     "metadata": {},
     "output_type": "display_data"
    }
   ],
   "source": [
    "ax2 = sns.histplot(hospital, x = hospital[\"Dur_stay\"],hue=hospital[\"Antibio\"])\n",
    "plt.legend(labels=[\"No Antibiotic Use\",\"Antibiotic Use\"])\n",
    "ax2.set_xlabel(\"Antibitic Use\")\n",
    "ax2.set_ylabel(\"Duration of Hospital Stay\")"
   ]
  },
  {
   "cell_type": "markdown",
   "id": "d5d077ea",
   "metadata": {},
   "source": [
    "### Histogram by Hand\n",
    "This an example of a histogram by hand."
   ]
  },
  {
   "cell_type": "markdown",
   "id": "39e6c604",
   "metadata": {},
   "source": [
    "### Discussion of Distribution\n",
    "Items to be labelled: Median, Q1, Q3, Q3 + 1.5 (IQR), Q1 – 1.5(IQR)\n",
    "\n",
    "Mentionable Items about Distribution:\n",
    "-\tMost people have duration stay closer to closer to Q1\n",
    "-\tGreater variability in persons that received antibiotics \n",
    "-\tRemoval of outlier significantly affects the variability "
   ]
  },
  {
   "cell_type": "markdown",
   "id": "bef73aba",
   "metadata": {},
   "source": [
    "### Discussion of Outliers\n",
    "Potential points to have discussed in this section include:\n",
    "-\tNo effect on median value \n",
    "-\tEffect of outliers on distribution \n",
    "-\tDifference in means, standard deviation, and variance \n",
    "-\tChange in 5 numbers after removal of outliers from both datasets"
   ]
  },
  {
   "cell_type": "markdown",
   "id": "aeb0d282",
   "metadata": {},
   "source": [
    "## Question 2"
   ]
  },
  {
   "cell_type": "code",
   "execution_count": 20,
   "id": "131a307f",
   "metadata": {},
   "outputs": [],
   "source": [
    "heart = pd.read_csv('heart_disease_needs_data_cleaning.csv')"
   ]
  },
  {
   "cell_type": "markdown",
   "id": "a23d3314",
   "metadata": {},
   "source": [
    "### Finding Missing Data"
   ]
  },
  {
   "cell_type": "code",
   "execution_count": 21,
   "id": "23dbc1f3",
   "metadata": {},
   "outputs": [
    {
     "name": "stdout",
     "output_type": "stream",
     "text": [
      "    Age  Sex  Chest Pain  Trestbps   Chol  Fbs  Restecg  Thalach  Exang  \\\n",
      "28   43    1         4.0       NaN    NaN  NaN      NaN      NaN    NaN   \n",
      "41   40    1         1.0     140.0  199.0  0.0      0.0      NaN    1.0   \n",
      "149  60  NaN         NaN       NaN    NaN  NaN      NaN      NaN    NaN   \n",
      "166  52    1         3.0     138.0  223.0  0.0      0.0    169.0    0.0   \n",
      "301  57  NaN         NaN       NaN    NaN  NaN      NaN      NaN    NaN   \n",
      "\n",
      "     Oldpeak Slope   Ca Thal  Heart_Disease  \n",
      "28       NaN   NaN    0    3              0  \n",
      "41       1.4     1    0    7              0  \n",
      "149      NaN     1    1    3              0  \n",
      "166      0.0   NaN    0    3              0  \n",
      "301      NaN   NaN  NaN  NaN              1  \n"
     ]
    }
   ],
   "source": [
    "# Find the missing data points\n",
    "print(heart[heart.isna().any(axis=1)])"
   ]
  },
  {
   "cell_type": "markdown",
   "id": "24ca45f6",
   "metadata": {},
   "source": [
    "### Dropping Missing Data"
   ]
  },
  {
   "cell_type": "code",
   "execution_count": 23,
   "id": "e8d4d877",
   "metadata": {},
   "outputs": [
    {
     "name": "stdout",
     "output_type": "stream",
     "text": [
      "<class 'pandas.core.frame.DataFrame'>\n",
      "Int64Index: 298 entries, 0 to 302\n",
      "Data columns (total 14 columns):\n",
      " #   Column         Non-Null Count  Dtype  \n",
      "---  ------         --------------  -----  \n",
      " 0   Age            298 non-null    object \n",
      " 1   Sex            298 non-null    object \n",
      " 2   Chest Pain     298 non-null    float64\n",
      " 3   Trestbps       298 non-null    float64\n",
      " 4   Chol           298 non-null    float64\n",
      " 5   Fbs            298 non-null    float64\n",
      " 6   Restecg        298 non-null    float64\n",
      " 7   Thalach        298 non-null    float64\n",
      " 8   Exang          298 non-null    float64\n",
      " 9   Oldpeak        298 non-null    float64\n",
      " 10  Slope          298 non-null    object \n",
      " 11  Ca             298 non-null    object \n",
      " 12  Thal           298 non-null    object \n",
      " 13  Heart_Disease  298 non-null    int64  \n",
      "dtypes: float64(8), int64(1), object(5)\n",
      "memory usage: 34.9+ KB\n"
     ]
    }
   ],
   "source": [
    "# Drop NaN rows to get rid of any missing data by row; won=without null data\n",
    "# Then look at non-null counts and data types\n",
    "heart_won = heart.dropna()\n",
    "heart_won.info()"
   ]
  },
  {
   "cell_type": "markdown",
   "id": "a800a3ef",
   "metadata": {},
   "source": [
    "### Data-type Validity and Cleaning\n",
    "Expected variable types of the different variables are:\n",
    "-\tAge = integer\n",
    "-\tSlope = categorical\n",
    "-\tHeart disease = categorical "
   ]
  },
  {
   "cell_type": "code",
   "execution_count": 24,
   "id": "b839b76a",
   "metadata": {
    "scrolled": true
   },
   "outputs": [
    {
     "ename": "ValueError",
     "evalue": "invalid literal for int() with base 10: 'Terry'",
     "output_type": "error",
     "traceback": [
      "\u001b[1;31m---------------------------------------------------------------------------\u001b[0m",
      "\u001b[1;31mValueError\u001b[0m                                Traceback (most recent call last)",
      "Input \u001b[1;32mIn [24]\u001b[0m, in \u001b[0;36m<module>\u001b[1;34m\u001b[0m\n\u001b[0;32m      1\u001b[0m \u001b[38;5;66;03m# Let's make sure that the datatype of the selected columns that we care about are what we want them to be; use errors as 'coerce' to make error into NaN\u001b[39;00m\n\u001b[0;32m      2\u001b[0m \u001b[38;5;66;03m# changing Slope to categories is nice, but not neccessary; object type can have mix of data types, just have to be careful of what you see\u001b[39;00m\n\u001b[0;32m      3\u001b[0m \u001b[38;5;66;03m# Age is an object and would want integer; Sex should be categorical\u001b[39;00m\n\u001b[0;32m      4\u001b[0m \u001b[38;5;66;03m# Let's try to change Age to a integer type like we want it to be\u001b[39;00m\n\u001b[1;32m----> 5\u001b[0m heart_wonA\u001b[38;5;241m=\u001b[39m\u001b[43mheart_won\u001b[49m\u001b[38;5;241;43m.\u001b[39;49m\u001b[43mastype\u001b[49m\u001b[43m(\u001b[49m\u001b[43m{\u001b[49m\u001b[38;5;124;43m\"\u001b[39;49m\u001b[38;5;124;43mAge\u001b[39;49m\u001b[38;5;124;43m\"\u001b[39;49m\u001b[43m:\u001b[49m\u001b[38;5;28;43mint\u001b[39;49m\u001b[43m}\u001b[49m\u001b[43m,\u001b[49m\u001b[43m \u001b[49m\u001b[43merrors\u001b[49m\u001b[38;5;241;43m=\u001b[39;49m\u001b[38;5;124;43m'\u001b[39;49m\u001b[38;5;124;43mraise\u001b[39;49m\u001b[38;5;124;43m'\u001b[39;49m\u001b[43m)\u001b[49m                     \n\u001b[0;32m      6\u001b[0m heart_wonA\u001b[38;5;241m.\u001b[39mSlope\u001b[38;5;241m=\u001b[39mheart_won\u001b[38;5;241m.\u001b[39mSlope\u001b[38;5;241m.\u001b[39mastype(\u001b[38;5;124m'\u001b[39m\u001b[38;5;124mcategory\u001b[39m\u001b[38;5;124m'\u001b[39m)\n\u001b[0;32m      7\u001b[0m heart_wonA\u001b[38;5;241m.\u001b[39mHeart_Disease\u001b[38;5;241m=\u001b[39mheart_won\u001b[38;5;241m.\u001b[39mHeart_Disease\u001b[38;5;241m.\u001b[39mastype(\u001b[38;5;124m'\u001b[39m\u001b[38;5;124mcategory\u001b[39m\u001b[38;5;124m'\u001b[39m)\n",
      "File \u001b[1;32m~\\AppData\\Local\\Packages\\PythonSoftwareFoundation.Python.3.10_qbz5n2kfra8p0\\LocalCache\\local-packages\\Python310\\site-packages\\pandas\\core\\generic.py:5906\u001b[0m, in \u001b[0;36mNDFrame.astype\u001b[1;34m(self, dtype, copy, errors)\u001b[0m\n\u001b[0;32m   5904\u001b[0m             res_col \u001b[38;5;241m=\u001b[39m col\u001b[38;5;241m.\u001b[39mcopy() \u001b[38;5;28;01mif\u001b[39;00m copy \u001b[38;5;28;01melse\u001b[39;00m col\n\u001b[0;32m   5905\u001b[0m         \u001b[38;5;28;01melse\u001b[39;00m:\n\u001b[1;32m-> 5906\u001b[0m             res_col \u001b[38;5;241m=\u001b[39m \u001b[43mcol\u001b[49m\u001b[38;5;241;43m.\u001b[39;49m\u001b[43mastype\u001b[49m\u001b[43m(\u001b[49m\u001b[43mdtype\u001b[49m\u001b[38;5;241;43m=\u001b[39;49m\u001b[43mcdt\u001b[49m\u001b[43m,\u001b[49m\u001b[43m \u001b[49m\u001b[43mcopy\u001b[49m\u001b[38;5;241;43m=\u001b[39;49m\u001b[43mcopy\u001b[49m\u001b[43m,\u001b[49m\u001b[43m \u001b[49m\u001b[43merrors\u001b[49m\u001b[38;5;241;43m=\u001b[39;49m\u001b[43merrors\u001b[49m\u001b[43m)\u001b[49m\n\u001b[0;32m   5907\u001b[0m         results\u001b[38;5;241m.\u001b[39mappend(res_col)\n\u001b[0;32m   5909\u001b[0m \u001b[38;5;28;01melif\u001b[39;00m is_extension_array_dtype(dtype) \u001b[38;5;129;01mand\u001b[39;00m \u001b[38;5;28mself\u001b[39m\u001b[38;5;241m.\u001b[39mndim \u001b[38;5;241m>\u001b[39m \u001b[38;5;241m1\u001b[39m:\n\u001b[0;32m   5910\u001b[0m     \u001b[38;5;66;03m# GH 18099/22869: columnwise conversion to extension dtype\u001b[39;00m\n\u001b[0;32m   5911\u001b[0m     \u001b[38;5;66;03m# GH 24704: use iloc to handle duplicate column names\u001b[39;00m\n\u001b[0;32m   5912\u001b[0m     \u001b[38;5;66;03m# TODO(EA2D): special case not needed with 2D EAs\u001b[39;00m\n",
      "File \u001b[1;32m~\\AppData\\Local\\Packages\\PythonSoftwareFoundation.Python.3.10_qbz5n2kfra8p0\\LocalCache\\local-packages\\Python310\\site-packages\\pandas\\core\\generic.py:5920\u001b[0m, in \u001b[0;36mNDFrame.astype\u001b[1;34m(self, dtype, copy, errors)\u001b[0m\n\u001b[0;32m   5913\u001b[0m     results \u001b[38;5;241m=\u001b[39m [\n\u001b[0;32m   5914\u001b[0m         \u001b[38;5;28mself\u001b[39m\u001b[38;5;241m.\u001b[39miloc[:, i]\u001b[38;5;241m.\u001b[39mastype(dtype, copy\u001b[38;5;241m=\u001b[39mcopy)\n\u001b[0;32m   5915\u001b[0m         \u001b[38;5;28;01mfor\u001b[39;00m i \u001b[38;5;129;01min\u001b[39;00m \u001b[38;5;28mrange\u001b[39m(\u001b[38;5;28mlen\u001b[39m(\u001b[38;5;28mself\u001b[39m\u001b[38;5;241m.\u001b[39mcolumns))\n\u001b[0;32m   5916\u001b[0m     ]\n\u001b[0;32m   5918\u001b[0m \u001b[38;5;28;01melse\u001b[39;00m:\n\u001b[0;32m   5919\u001b[0m     \u001b[38;5;66;03m# else, only a single dtype is given\u001b[39;00m\n\u001b[1;32m-> 5920\u001b[0m     new_data \u001b[38;5;241m=\u001b[39m \u001b[38;5;28;43mself\u001b[39;49m\u001b[38;5;241;43m.\u001b[39;49m\u001b[43m_mgr\u001b[49m\u001b[38;5;241;43m.\u001b[39;49m\u001b[43mastype\u001b[49m\u001b[43m(\u001b[49m\u001b[43mdtype\u001b[49m\u001b[38;5;241;43m=\u001b[39;49m\u001b[43mdtype\u001b[49m\u001b[43m,\u001b[49m\u001b[43m \u001b[49m\u001b[43mcopy\u001b[49m\u001b[38;5;241;43m=\u001b[39;49m\u001b[43mcopy\u001b[49m\u001b[43m,\u001b[49m\u001b[43m \u001b[49m\u001b[43merrors\u001b[49m\u001b[38;5;241;43m=\u001b[39;49m\u001b[43merrors\u001b[49m\u001b[43m)\u001b[49m\n\u001b[0;32m   5921\u001b[0m     \u001b[38;5;28;01mreturn\u001b[39;00m \u001b[38;5;28mself\u001b[39m\u001b[38;5;241m.\u001b[39m_constructor(new_data)\u001b[38;5;241m.\u001b[39m__finalize__(\u001b[38;5;28mself\u001b[39m, method\u001b[38;5;241m=\u001b[39m\u001b[38;5;124m\"\u001b[39m\u001b[38;5;124mastype\u001b[39m\u001b[38;5;124m\"\u001b[39m)\n\u001b[0;32m   5923\u001b[0m \u001b[38;5;66;03m# GH 33113: handle empty frame or series\u001b[39;00m\n",
      "File \u001b[1;32m~\\AppData\\Local\\Packages\\PythonSoftwareFoundation.Python.3.10_qbz5n2kfra8p0\\LocalCache\\local-packages\\Python310\\site-packages\\pandas\\core\\internals\\managers.py:419\u001b[0m, in \u001b[0;36mBaseBlockManager.astype\u001b[1;34m(self, dtype, copy, errors)\u001b[0m\n\u001b[0;32m    418\u001b[0m \u001b[38;5;28;01mdef\u001b[39;00m \u001b[38;5;21mastype\u001b[39m(\u001b[38;5;28mself\u001b[39m: T, dtype, copy: \u001b[38;5;28mbool\u001b[39m \u001b[38;5;241m=\u001b[39m \u001b[38;5;28;01mFalse\u001b[39;00m, errors: \u001b[38;5;28mstr\u001b[39m \u001b[38;5;241m=\u001b[39m \u001b[38;5;124m\"\u001b[39m\u001b[38;5;124mraise\u001b[39m\u001b[38;5;124m\"\u001b[39m) \u001b[38;5;241m-\u001b[39m\u001b[38;5;241m>\u001b[39m T:\n\u001b[1;32m--> 419\u001b[0m     \u001b[38;5;28;01mreturn\u001b[39;00m \u001b[38;5;28;43mself\u001b[39;49m\u001b[38;5;241;43m.\u001b[39;49m\u001b[43mapply\u001b[49m\u001b[43m(\u001b[49m\u001b[38;5;124;43m\"\u001b[39;49m\u001b[38;5;124;43mastype\u001b[39;49m\u001b[38;5;124;43m\"\u001b[39;49m\u001b[43m,\u001b[49m\u001b[43m \u001b[49m\u001b[43mdtype\u001b[49m\u001b[38;5;241;43m=\u001b[39;49m\u001b[43mdtype\u001b[49m\u001b[43m,\u001b[49m\u001b[43m \u001b[49m\u001b[43mcopy\u001b[49m\u001b[38;5;241;43m=\u001b[39;49m\u001b[43mcopy\u001b[49m\u001b[43m,\u001b[49m\u001b[43m \u001b[49m\u001b[43merrors\u001b[49m\u001b[38;5;241;43m=\u001b[39;49m\u001b[43merrors\u001b[49m\u001b[43m)\u001b[49m\n",
      "File \u001b[1;32m~\\AppData\\Local\\Packages\\PythonSoftwareFoundation.Python.3.10_qbz5n2kfra8p0\\LocalCache\\local-packages\\Python310\\site-packages\\pandas\\core\\internals\\managers.py:304\u001b[0m, in \u001b[0;36mBaseBlockManager.apply\u001b[1;34m(self, f, align_keys, ignore_failures, **kwargs)\u001b[0m\n\u001b[0;32m    302\u001b[0m         applied \u001b[38;5;241m=\u001b[39m b\u001b[38;5;241m.\u001b[39mapply(f, \u001b[38;5;241m*\u001b[39m\u001b[38;5;241m*\u001b[39mkwargs)\n\u001b[0;32m    303\u001b[0m     \u001b[38;5;28;01melse\u001b[39;00m:\n\u001b[1;32m--> 304\u001b[0m         applied \u001b[38;5;241m=\u001b[39m \u001b[38;5;28mgetattr\u001b[39m(b, f)(\u001b[38;5;241m*\u001b[39m\u001b[38;5;241m*\u001b[39mkwargs)\n\u001b[0;32m    305\u001b[0m \u001b[38;5;28;01mexcept\u001b[39;00m (\u001b[38;5;167;01mTypeError\u001b[39;00m, \u001b[38;5;167;01mNotImplementedError\u001b[39;00m):\n\u001b[0;32m    306\u001b[0m     \u001b[38;5;28;01mif\u001b[39;00m \u001b[38;5;129;01mnot\u001b[39;00m ignore_failures:\n",
      "File \u001b[1;32m~\\AppData\\Local\\Packages\\PythonSoftwareFoundation.Python.3.10_qbz5n2kfra8p0\\LocalCache\\local-packages\\Python310\\site-packages\\pandas\\core\\internals\\blocks.py:582\u001b[0m, in \u001b[0;36mBlock.astype\u001b[1;34m(self, dtype, copy, errors)\u001b[0m\n\u001b[0;32m    564\u001b[0m \u001b[38;5;124;03m\"\"\"\u001b[39;00m\n\u001b[0;32m    565\u001b[0m \u001b[38;5;124;03mCoerce to the new dtype.\u001b[39;00m\n\u001b[0;32m    566\u001b[0m \n\u001b[1;32m   (...)\u001b[0m\n\u001b[0;32m    578\u001b[0m \u001b[38;5;124;03mBlock\u001b[39;00m\n\u001b[0;32m    579\u001b[0m \u001b[38;5;124;03m\"\"\"\u001b[39;00m\n\u001b[0;32m    580\u001b[0m values \u001b[38;5;241m=\u001b[39m \u001b[38;5;28mself\u001b[39m\u001b[38;5;241m.\u001b[39mvalues\n\u001b[1;32m--> 582\u001b[0m new_values \u001b[38;5;241m=\u001b[39m \u001b[43mastype_array_safe\u001b[49m\u001b[43m(\u001b[49m\u001b[43mvalues\u001b[49m\u001b[43m,\u001b[49m\u001b[43m \u001b[49m\u001b[43mdtype\u001b[49m\u001b[43m,\u001b[49m\u001b[43m \u001b[49m\u001b[43mcopy\u001b[49m\u001b[38;5;241;43m=\u001b[39;49m\u001b[43mcopy\u001b[49m\u001b[43m,\u001b[49m\u001b[43m \u001b[49m\u001b[43merrors\u001b[49m\u001b[38;5;241;43m=\u001b[39;49m\u001b[43merrors\u001b[49m\u001b[43m)\u001b[49m\n\u001b[0;32m    584\u001b[0m new_values \u001b[38;5;241m=\u001b[39m maybe_coerce_values(new_values)\n\u001b[0;32m    585\u001b[0m newb \u001b[38;5;241m=\u001b[39m \u001b[38;5;28mself\u001b[39m\u001b[38;5;241m.\u001b[39mmake_block(new_values)\n",
      "File \u001b[1;32m~\\AppData\\Local\\Packages\\PythonSoftwareFoundation.Python.3.10_qbz5n2kfra8p0\\LocalCache\\local-packages\\Python310\\site-packages\\pandas\\core\\dtypes\\cast.py:1292\u001b[0m, in \u001b[0;36mastype_array_safe\u001b[1;34m(values, dtype, copy, errors)\u001b[0m\n\u001b[0;32m   1289\u001b[0m     dtype \u001b[38;5;241m=\u001b[39m dtype\u001b[38;5;241m.\u001b[39mnumpy_dtype\n\u001b[0;32m   1291\u001b[0m \u001b[38;5;28;01mtry\u001b[39;00m:\n\u001b[1;32m-> 1292\u001b[0m     new_values \u001b[38;5;241m=\u001b[39m \u001b[43mastype_array\u001b[49m\u001b[43m(\u001b[49m\u001b[43mvalues\u001b[49m\u001b[43m,\u001b[49m\u001b[43m \u001b[49m\u001b[43mdtype\u001b[49m\u001b[43m,\u001b[49m\u001b[43m \u001b[49m\u001b[43mcopy\u001b[49m\u001b[38;5;241;43m=\u001b[39;49m\u001b[43mcopy\u001b[49m\u001b[43m)\u001b[49m\n\u001b[0;32m   1293\u001b[0m \u001b[38;5;28;01mexcept\u001b[39;00m (\u001b[38;5;167;01mValueError\u001b[39;00m, \u001b[38;5;167;01mTypeError\u001b[39;00m):\n\u001b[0;32m   1294\u001b[0m     \u001b[38;5;66;03m# e.g. astype_nansafe can fail on object-dtype of strings\u001b[39;00m\n\u001b[0;32m   1295\u001b[0m     \u001b[38;5;66;03m#  trying to convert to float\u001b[39;00m\n\u001b[0;32m   1296\u001b[0m     \u001b[38;5;28;01mif\u001b[39;00m errors \u001b[38;5;241m==\u001b[39m \u001b[38;5;124m\"\u001b[39m\u001b[38;5;124mignore\u001b[39m\u001b[38;5;124m\"\u001b[39m:\n",
      "File \u001b[1;32m~\\AppData\\Local\\Packages\\PythonSoftwareFoundation.Python.3.10_qbz5n2kfra8p0\\LocalCache\\local-packages\\Python310\\site-packages\\pandas\\core\\dtypes\\cast.py:1237\u001b[0m, in \u001b[0;36mastype_array\u001b[1;34m(values, dtype, copy)\u001b[0m\n\u001b[0;32m   1234\u001b[0m     values \u001b[38;5;241m=\u001b[39m values\u001b[38;5;241m.\u001b[39mastype(dtype, copy\u001b[38;5;241m=\u001b[39mcopy)\n\u001b[0;32m   1236\u001b[0m \u001b[38;5;28;01melse\u001b[39;00m:\n\u001b[1;32m-> 1237\u001b[0m     values \u001b[38;5;241m=\u001b[39m \u001b[43mastype_nansafe\u001b[49m\u001b[43m(\u001b[49m\u001b[43mvalues\u001b[49m\u001b[43m,\u001b[49m\u001b[43m \u001b[49m\u001b[43mdtype\u001b[49m\u001b[43m,\u001b[49m\u001b[43m \u001b[49m\u001b[43mcopy\u001b[49m\u001b[38;5;241;43m=\u001b[39;49m\u001b[43mcopy\u001b[49m\u001b[43m)\u001b[49m\n\u001b[0;32m   1239\u001b[0m \u001b[38;5;66;03m# in pandas we don't store numpy str dtypes, so convert to object\u001b[39;00m\n\u001b[0;32m   1240\u001b[0m \u001b[38;5;28;01mif\u001b[39;00m \u001b[38;5;28misinstance\u001b[39m(dtype, np\u001b[38;5;241m.\u001b[39mdtype) \u001b[38;5;129;01mand\u001b[39;00m \u001b[38;5;28missubclass\u001b[39m(values\u001b[38;5;241m.\u001b[39mdtype\u001b[38;5;241m.\u001b[39mtype, \u001b[38;5;28mstr\u001b[39m):\n",
      "File \u001b[1;32m~\\AppData\\Local\\Packages\\PythonSoftwareFoundation.Python.3.10_qbz5n2kfra8p0\\LocalCache\\local-packages\\Python310\\site-packages\\pandas\\core\\dtypes\\cast.py:1154\u001b[0m, in \u001b[0;36mastype_nansafe\u001b[1;34m(arr, dtype, copy, skipna)\u001b[0m\n\u001b[0;32m   1150\u001b[0m \u001b[38;5;28;01melif\u001b[39;00m is_object_dtype(arr\u001b[38;5;241m.\u001b[39mdtype):\n\u001b[0;32m   1151\u001b[0m \n\u001b[0;32m   1152\u001b[0m     \u001b[38;5;66;03m# work around NumPy brokenness, #1987\u001b[39;00m\n\u001b[0;32m   1153\u001b[0m     \u001b[38;5;28;01mif\u001b[39;00m np\u001b[38;5;241m.\u001b[39missubdtype(dtype\u001b[38;5;241m.\u001b[39mtype, np\u001b[38;5;241m.\u001b[39minteger):\n\u001b[1;32m-> 1154\u001b[0m         \u001b[38;5;28;01mreturn\u001b[39;00m \u001b[43mlib\u001b[49m\u001b[38;5;241;43m.\u001b[39;49m\u001b[43mastype_intsafe\u001b[49m\u001b[43m(\u001b[49m\u001b[43marr\u001b[49m\u001b[43m,\u001b[49m\u001b[43m \u001b[49m\u001b[43mdtype\u001b[49m\u001b[43m)\u001b[49m\n\u001b[0;32m   1156\u001b[0m     \u001b[38;5;66;03m# if we have a datetime/timedelta array of objects\u001b[39;00m\n\u001b[0;32m   1157\u001b[0m     \u001b[38;5;66;03m# then coerce to a proper dtype and recall astype_nansafe\u001b[39;00m\n\u001b[0;32m   1159\u001b[0m     \u001b[38;5;28;01melif\u001b[39;00m is_datetime64_dtype(dtype):\n",
      "File \u001b[1;32m~\\AppData\\Local\\Packages\\PythonSoftwareFoundation.Python.3.10_qbz5n2kfra8p0\\LocalCache\\local-packages\\Python310\\site-packages\\pandas\\_libs\\lib.pyx:668\u001b[0m, in \u001b[0;36mpandas._libs.lib.astype_intsafe\u001b[1;34m()\u001b[0m\n",
      "\u001b[1;31mValueError\u001b[0m: invalid literal for int() with base 10: 'Terry'"
     ]
    }
   ],
   "source": [
    "# Let's make sure that the datatype of the selected columns that we care about are what we want them to be; use errors as 'coerce' to make error into NaN\n",
    "# changing Slope to categories is nice, but not neccessary; object type can have mix of data types, just have to be careful of what you see\n",
    "# Age is an object and would want integer; Sex should be categorical\n",
    "# Let's try to change Age to a integer type like we want it to be\n",
    "heart_wonA=heart_won.astype({\"Age\":int}, errors='raise')                     \n",
    "heart_wonA.Slope=heart_won.Slope.astype('category')\n",
    "heart_wonA.Heart_Disease=heart_won.Heart_Disease.astype('category')\n",
    "heart_wonA.info()"
   ]
  },
  {
   "cell_type": "code",
   "execution_count": 25,
   "id": "5960afe9",
   "metadata": {},
   "outputs": [
    {
     "name": "stdout",
     "output_type": "stream",
     "text": [
      "     Age Sex  Chest Pain  Trestbps   Chol  Fbs  Restecg  Thalach  Exang  \\\n",
      "2  Terry   1         4.0     120.0  229.0  0.0      2.0    129.0    1.0   \n",
      "\n",
      "   Oldpeak Slope Ca Thal  Heart_Disease  \n",
      "2      2.6     2  2    7              1  \n"
     ]
    }
   ],
   "source": [
    "# Age didn't chamge to integer, and since we asked for the change to 'raise' an errr we have the error for 'Terry'\n",
    "# There are many ways to deal with this, but let's do somthing simple and just drop this row like it was a missing value using teh Pandas Datframe drop command\n",
    "#  You can see the index by finding it or using pd.Dataframe.loc to access values or group of rows and/or columns by label or boolen array\n",
    "#heart_won_dropTerry = heart_won(labels=[\"Age\"],axis=0)\n",
    "#heart_good_data.info()\n",
    "print(heart_won.loc[heart_won[\"Age\"]==\"Terry\"])"
   ]
  },
  {
   "cell_type": "code",
   "execution_count": 26,
   "id": "4ca457c5",
   "metadata": {
    "scrolled": true
   },
   "outputs": [
    {
     "name": "stdout",
     "output_type": "stream",
     "text": [
      "<class 'pandas.core.frame.DataFrame'>\n",
      "Int64Index: 297 entries, 0 to 302\n",
      "Data columns (total 14 columns):\n",
      " #   Column         Non-Null Count  Dtype  \n",
      "---  ------         --------------  -----  \n",
      " 0   Age            297 non-null    object \n",
      " 1   Sex            297 non-null    object \n",
      " 2   Chest Pain     297 non-null    float64\n",
      " 3   Trestbps       297 non-null    float64\n",
      " 4   Chol           297 non-null    float64\n",
      " 5   Fbs            297 non-null    float64\n",
      " 6   Restecg        297 non-null    float64\n",
      " 7   Thalach        297 non-null    float64\n",
      " 8   Exang          297 non-null    float64\n",
      " 9   Oldpeak        297 non-null    float64\n",
      " 10  Slope          297 non-null    object \n",
      " 11  Ca             297 non-null    object \n",
      " 12  Thal           297 non-null    object \n",
      " 13  Heart_Disease  297 non-null    int64  \n",
      "dtypes: float64(8), int64(1), object(5)\n",
      "memory usage: 34.8+ KB\n"
     ]
    }
   ],
   "source": [
    "heart_won_dropTerry = heart_won.drop(labels=2, axis=0)\n",
    "heart_won_dropTerry.info()"
   ]
  },
  {
   "cell_type": "code",
   "execution_count": 27,
   "id": "973b489f",
   "metadata": {
    "scrolled": true
   },
   "outputs": [
    {
     "name": "stdout",
     "output_type": "stream",
     "text": [
      "<class 'pandas.core.frame.DataFrame'>\n",
      "Int64Index: 297 entries, 0 to 302\n",
      "Data columns (total 14 columns):\n",
      " #   Column         Non-Null Count  Dtype   \n",
      "---  ------         --------------  -----   \n",
      " 0   Age            297 non-null    int32   \n",
      " 1   Sex            297 non-null    object  \n",
      " 2   Chest Pain     297 non-null    float64 \n",
      " 3   Trestbps       297 non-null    float64 \n",
      " 4   Chol           297 non-null    float64 \n",
      " 5   Fbs            297 non-null    float64 \n",
      " 6   Restecg        297 non-null    float64 \n",
      " 7   Thalach        297 non-null    float64 \n",
      " 8   Exang          297 non-null    float64 \n",
      " 9   Oldpeak        297 non-null    float64 \n",
      " 10  Slope          293 non-null    category\n",
      " 11  Ca             297 non-null    object  \n",
      " 12  Thal           297 non-null    object  \n",
      " 13  Heart_Disease  297 non-null    category\n",
      "dtypes: category(2), float64(8), int32(1), object(3)\n",
      "memory usage: 29.8+ KB\n"
     ]
    }
   ],
   "source": [
    "# Let's try again to change Age to a integer type like we want it to be, now that we have removed the row with Terry in it\n",
    "# So, usig category does not convert the inpt values to strings or objects, the categories will end up the same datatype as the origional values!\n",
    "# pandas.psdata.org/pandas-docs/stable/user_guide/categorical.html insted of usng default dtype='category' we use an instance of CategoricalDtype\n",
    "# this limits the categories and puts non-conforming to NaN\n",
    "heart_wonA=heart_won_dropTerry.astype({\"Age\":int}, errors='raise') \n",
    "from pandas.api.types import CategoricalDtype\n",
    "cat_type = CategoricalDtype(categories=[\"1\",\"2\",\"3\"])\n",
    "heart_wonA.Slope=heart_won_dropTerry.Slope.astype(cat_type)\n",
    "heart_wonA.Heart_Disease=heart_won_dropTerry.Heart_Disease.astype('category')\n",
    "heart_wonA.info()"
   ]
  },
  {
   "cell_type": "code",
   "execution_count": 28,
   "id": "ae067a04",
   "metadata": {},
   "outputs": [
    {
     "data": {
      "text/plain": [
       "['3', '2', '1', NaN]\n",
       "Categories (3, object): ['1', '2', '3']"
      ]
     },
     "execution_count": 28,
     "metadata": {},
     "output_type": "execute_result"
    }
   ],
   "source": [
    "# You can use .unique() attribute to get the unique values from our columns; this is important with categories\n",
    "# This can let you see how many categories you have to work with and how many are not useful to you and that you will want to remove for your clean data\n",
    "heart_wonA.Slope.unique()"
   ]
  },
  {
   "cell_type": "code",
   "execution_count": 29,
   "id": "357f9a6c",
   "metadata": {
    "scrolled": true
   },
   "outputs": [
    {
     "name": "stdout",
     "output_type": "stream",
     "text": [
      "<class 'pandas.core.frame.DataFrame'>\n",
      "Int64Index: 291 entries, 0 to 302\n",
      "Data columns (total 14 columns):\n",
      " #   Column         Non-Null Count  Dtype   \n",
      "---  ------         --------------  -----   \n",
      " 0   Age            291 non-null    int32   \n",
      " 1   Sex            291 non-null    object  \n",
      " 2   Chest Pain     291 non-null    float64 \n",
      " 3   Trestbps       291 non-null    float64 \n",
      " 4   Chol           291 non-null    float64 \n",
      " 5   Fbs            291 non-null    float64 \n",
      " 6   Restecg        291 non-null    float64 \n",
      " 7   Thalach        291 non-null    float64 \n",
      " 8   Exang          291 non-null    float64 \n",
      " 9   Oldpeak        291 non-null    float64 \n",
      " 10  Slope          291 non-null    category\n",
      " 11  Ca             291 non-null    object  \n",
      " 12  Thal           291 non-null    object  \n",
      " 13  Heart_Disease  291 non-null    category\n",
      "dtypes: category(2), float64(8), int32(1), object(3)\n",
      "memory usage: 29.2+ KB\n"
     ]
    }
   ],
   "source": [
    "# Now that we have the datatypes as what we want, we can query the columns of the dataset to clean out any nonsence values in these data columns. \n",
    "# or you could clean out NaN if you limited the datatype categories\n",
    "heart_clean_data = heart_wonA.query('0<= Age < 125')\n",
    "heart_clean_data = heart_clean_data.query('Slope == [\"1\",\"2\",\"3\"]')\n",
    "heart_clean_data = heart_clean_data.query('Heart_Disease == [1,0]')\n",
    "heart_clean_data.info()"
   ]
  },
  {
   "cell_type": "code",
   "execution_count": 30,
   "id": "84bc2716",
   "metadata": {
    "scrolled": true
   },
   "outputs": [
    {
     "name": "stdout",
     "output_type": "stream",
     "text": [
      "<class 'pandas.core.frame.DataFrame'>\n",
      "Int64Index: 291 entries, 0 to 302\n",
      "Data columns (total 14 columns):\n",
      " #   Column         Non-Null Count  Dtype   \n",
      "---  ------         --------------  -----   \n",
      " 0   Age            291 non-null    int32   \n",
      " 1   Sex            291 non-null    object  \n",
      " 2   Chest Pain     291 non-null    float64 \n",
      " 3   Trestbps       291 non-null    float64 \n",
      " 4   Chol           291 non-null    float64 \n",
      " 5   Fbs            291 non-null    float64 \n",
      " 6   Restecg        291 non-null    float64 \n",
      " 7   Thalach        291 non-null    float64 \n",
      " 8   Exang          291 non-null    float64 \n",
      " 9   Oldpeak        291 non-null    float64 \n",
      " 10  Slope          291 non-null    category\n",
      " 11  Ca             291 non-null    object  \n",
      " 12  Thal           291 non-null    object  \n",
      " 13  Heart_Disease  291 non-null    category\n",
      "dtypes: category(2), float64(8), int32(1), object(3)\n",
      "memory usage: 29.2+ KB\n"
     ]
    }
   ],
   "source": [
    "heart_clean_data.info()"
   ]
  },
  {
   "cell_type": "markdown",
   "id": "d4d25c98",
   "metadata": {},
   "source": [
    "### Creating New Age Variable"
   ]
  },
  {
   "cell_type": "code",
   "execution_count": 31,
   "id": "1c3fd15f",
   "metadata": {
    "scrolled": true
   },
   "outputs": [
    {
     "name": "stdout",
     "output_type": "stream",
     "text": [
      "     Age Sex  Chest Pain  Trestbps   Chol  Fbs  Restecg  Thalach  Exang  \\\n",
      "0     63   1         1.0     145.0  233.0  1.0      2.0    150.0    0.0   \n",
      "1     67   1         4.0     160.0  286.0  0.0      2.0    108.0    1.0   \n",
      "3     37   1         3.0     130.0  250.0  0.0      0.0    187.0    0.0   \n",
      "4     41   0         2.0     130.0  204.0  0.0      2.0    172.0    0.0   \n",
      "5     56   1         2.0     120.0  236.0  0.0      0.0    178.0    0.0   \n",
      "..   ...  ..         ...       ...    ...  ...      ...      ...    ...   \n",
      "296   59   1         4.0     164.0  176.0  1.0      2.0     90.0    0.0   \n",
      "297   57   0         4.0     140.0  241.0  0.0      0.0    123.0    1.0   \n",
      "299   68   1         4.0     144.0  193.0  1.0      0.0    141.0    0.0   \n",
      "300   57   1         4.0     130.0  131.0  0.0      0.0    115.0    1.0   \n",
      "302   38   1         3.0     138.0  175.0  0.0      0.0    173.0    0.0   \n",
      "\n",
      "     Oldpeak Slope Ca Thal Heart_Disease Age_Category  \n",
      "0        2.3     3  0    6             0        61-70  \n",
      "1        1.5     2  3    3             1        61-70  \n",
      "3        3.5     3  0    3             0         <=40  \n",
      "4        1.4     1  0    3             0        41-50  \n",
      "5        0.8     1  0    3             0        51-60  \n",
      "..       ...   ... ..  ...           ...          ...  \n",
      "296      1.0     2  2    6             1        51-60  \n",
      "297      0.2     2  0    7             1        51-60  \n",
      "299      3.4     2  2    7             1        61-70  \n",
      "300      1.2     2  1    7             1        51-60  \n",
      "302      0.0     1  ?    3             0         <=40  \n",
      "\n",
      "[291 rows x 15 columns]\n",
      "0      61-70\n",
      "1      61-70\n",
      "3       <=40\n",
      "4      41-50\n",
      "5      51-60\n",
      "       ...  \n",
      "296    51-60\n",
      "297    51-60\n",
      "299    61-70\n",
      "300    51-60\n",
      "302     <=40\n",
      "Name: Age_Category, Length: 291, dtype: category\n",
      "Categories (5, object): ['<=40' < '41-50' < '51-60' < '61-70' < '>71']\n"
     ]
    }
   ],
   "source": [
    "# pandas.psdata.org/docs/geting_started/intro_tutorials/05_add_columns.html\n",
    "# create bin edges and categories (one category less than bin edges and then use the pd.cut function to distribute them into categories)\n",
    "#  again, there are a lot of ways to do this\n",
    "bins=[0,40,50,60,70,150]\n",
    "category=[\"<=40\",\"41-50\",\"51-60\",\"61-70\",\">71\"]\n",
    "heart_clean_data[\"Age_Category\"] = pd.cut(heart_clean_data[\"Age\"], bins, labels=category)\n",
    "print(heart_clean_data)\n",
    "print(heart_clean_data.Age_Category)"
   ]
  },
  {
   "cell_type": "markdown",
   "id": "68631be5",
   "metadata": {},
   "source": [
    "### Example Graphics"
   ]
  },
  {
   "cell_type": "code",
   "execution_count": 35,
   "id": "a77e7531",
   "metadata": {},
   "outputs": [
    {
     "data": {
      "image/png": "[encoded data removed]",
      "text/plain": [
       "<Figure size 432x288 with 1 Axes>"
      ]
     },
     "metadata": {},
     "output_type": "display_data"
    }
   ],
   "source": [
    "#Heart Disease & Age\n",
    "sns.set_style(\"white\")\n",
    "ax3 = sns.boxplot(x=heart_clean_data[\"Heart_Disease\"], y=heart_clean_data[\"Age\"], whis=1.5)"
   ]
  },
  {
   "cell_type": "code",
   "execution_count": 33,
   "id": "2f83075b",
   "metadata": {},
   "outputs": [
    {
     "data": {
      "image/png": "[encoded data removed]",
      "text/plain": [
       "<Figure size 432x288 with 1 Axes>"
      ]
     },
     "metadata": {},
     "output_type": "display_data"
    }
   ],
   "source": [
    "#Slope\n",
    "ax4 = sns.boxplot(x=heart_clean_data[\"Slope\"], y=heart_clean_data[\"Age\"], whis=1.5)"
   ]
  },
  {
   "cell_type": "code",
   "execution_count": 34,
   "id": "ff8dd6f4",
   "metadata": {},
   "outputs": [
    {
     "data": {
      "image/png": "[encoded data removed]",
      "text/plain": [
       "<Figure size 432x288 with 1 Axes>"
      ]
     },
     "metadata": {},
     "output_type": "display_data"
    }
   ],
   "source": [
    "#Age-category\n",
    "ax5 = sns.countplot(x=heart_clean_data[\"Age_Category\"])"
   ]
  },
  {
   "cell_type": "markdown",
   "id": "56212211",
   "metadata": {},
   "source": [
    "## Problem 3\n",
    "Below is an example graphic for the question from a student. Marks for this question were mostly only lost due to identifying the dataset, lack of clarity in the graphs due to bad practice (e.g. overlapping x-axis ticks), and lastly for not providing a descrition/discussion of trends with respect to the data. "
   ]
  },
  {
   "cell_type": "markdown",
   "id": "d530454f",
   "metadata": {},
   "source": [
    "### Example Graphics "
   ]
  },
  {
   "cell_type": "code",
   "execution_count": 16,
   "id": "8ada0214",
   "metadata": {},
   "outputs": [
    {
     "name": "stdout",
     "output_type": "stream",
     "text": [
      "<class 'pandas.core.frame.DataFrame'>\n",
      "DatetimeIndex: 633 entries, 2020-05-01 to 2022-01-23\n",
      "Data columns (total 10 columns):\n",
      " #   Column                       Non-Null Count  Dtype\n",
      "---  ------                       --------------  -----\n",
      " 0   adult_icu_crci_patients      633 non-null    int64\n",
      " 1   adult_icu_non_crci_patients  633 non-null    int64\n",
      " 2   available_adult_icu_beds     633 non-null    int64\n",
      " 3   total_adult_icu_patients     633 non-null    int64\n",
      " 4   total_adult_icu_beds         633 non-null    int64\n",
      " 5   ped_icu_crci_patients        633 non-null    int64\n",
      " 6   ped_icu_non_crci_patients    633 non-null    int64\n",
      " 7   available_ped_icu_beds       633 non-null    int64\n",
      " 8   total_ped_icu_patients       633 non-null    int64\n",
      " 9   total_ped_icu_beds           633 non-null    int64\n",
      "dtypes: int64(10)\n",
      "memory usage: 54.4 KB\n"
     ]
    }
   ],
   "source": [
    "covid = pd.read_csv(\"icu_beds.csv\", delimiter=',', index_col='date',parse_dates=['date'])\n",
    "covid.info()"
   ]
  },
  {
   "cell_type": "code",
   "execution_count": 17,
   "id": "f42d780e",
   "metadata": {},
   "outputs": [
    {
     "data": {
      "image/png": "[encoded data removed]",
      "text/plain": [
       "<Figure size 720x360 with 1 Axes>"
      ]
     },
     "metadata": {
      "needs_background": "light"
     },
     "output_type": "display_data"
    }
   ],
   "source": [
    "covid2 = covid.drop(columns=[\"adult_icu_non_crci_patients\",\"adult_icu_crci_patients\",\"total_adult_icu_beds\", \"ped_icu_crci_patients\", \"ped_icu_non_crci_patients\",\"available_ped_icu_beds\",\"total_ped_icu_patients\",\"total_ped_icu_beds\"])\n",
    "plt.figure(figsize=(10,5))\n",
    "Timeseries_plot=sns.lineplot(data=covid2)\n",
    "plt.xticks(rotation=45,horizontalalignment='right',fontweight='light',fontsize='x-large')\n",
    "Timeseries_plot.set_xlabel(\"Date\", size=14)\n",
    "Timeseries_plot.set_ylabel(\"Count\", size=14)\n",
    "Timeseries_plot.set_title(\"Number of Adult ICU Patients and Available Adult ICU Beds Between May 2020 to Jan 2022\", size=14)\n",
    "Timeseries_plot.legend(labels=[\"Available Adult ICU Beds\", \"Total Adult ICU Patients\"])\n",
    "plt.show()"
   ]
  },
  {
   "cell_type": "code",
   "execution_count": 18,
   "id": "10903b3e",
   "metadata": {},
   "outputs": [
    {
     "data": {
      "image/png": "[encoded data removed]",
      "text/plain": [
       "<Figure size 720x360 with 1 Axes>"
      ]
     },
     "metadata": {
      "needs_background": "light"
     },
     "output_type": "display_data"
    }
   ],
   "source": [
    "Bar = covid.drop(columns=[\"available_adult_icu_beds\",\"total_adult_icu_beds\", \"total_adult_icu_patients\",\"available_ped_icu_beds\",\"total_ped_icu_patients\",\"total_ped_icu_beds\"])\n",
    "Bar = bar.rename(columns = {\"adult_icu_crci_patients\": \"Adult CRCI patients\",\"adult_icu_non_crci_patients\": \"Adult non-CRCI patients\",\"ped_icu_crci_patients\": \"Pediatric CRCI patients\",\"ped_icu_non_crci_patients\": \"Pediatric non-CRCI patients\"})\n",
    "plt.figure(figsize=(10,5))\n",
    "Barplot = Bar.mean().plot.bar()\n",
    "plt.xticks(rotation=40,ha='right',fontweight='light',fontsize='x-large')\n",
    "Barplot.set_xlabel(\"Population\", size=14)\n",
    "Barplot.set_ylabel(\"Mean Number of ICU Patients\", size=14)\n",
    "Barplot.set_title(\"Mean Number of Patients by Population\", size=14)\n",
    "plt.show()"
   ]
  },
  {
   "cell_type": "markdown",
   "id": "0ee3a6db",
   "metadata": {},
   "source": [
    "## Problem 4\n",
    "### Fox News Critique Example\n",
    "There are several parts that make this visualization poor, below I have listed a few problems and possible ways to fix the concerns, however this is not an exhuastive list.\n",
    "\n",
    "#### Problems\n",
    "- Contrast between background noise and data visualization\n",
    "- Shorterned time frame chosen to represent entirely of term \n",
    "- Colour is chosen to be red to provide negative bais\n",
    "- No context provided for the unemployment rate before Obama's term\n",
    "\n",
    "#### Solutions\n",
    "- Less clutered line graph\n",
    "- Use of more neutral colours\n",
    "- Longer time frame used to provide less biased representation of the data\n",
    "\n",
    "### MSNBC News Critique Example\n",
    "There are several parts that make this visualization poor, below I have listed a few problems and possible ways to fix the concerns, however this is not an exhuastive list.\n",
    "\n",
    "#### Problems\n",
    "- Unnecssary show provided in the background \n",
    "- Change in the scale of the x-axis \n",
    "- Use of Today is not informative \n",
    "- Missing x-axis and y-axis lables \n",
    "- Utilization of bar plot to present time series data\n",
    "\n",
    "#### Solutions\n",
    "- Inclusion of axis lables\n",
    "- Change in graph type from barplot to time series\n",
    "- Homogenetity in the x-axis and time spacing\n",
    "- Decreased clutter in graphical representation"
   ]
  },
  {
   "cell_type": "markdown",
   "id": "f66a51f0",
   "metadata": {},
   "source": [
    "## Problem 5\n",
    "### General Probability Rules\n",
    "Probability Rules:\n",
    "\n",
    "•The range of probabilities must be between 0 and 1 for all events.\n",
    "\n",
    "•The sum of probabilities is always equal to 1 for all possible events.\n",
    "\n",
    "•The Complement Rule states that for an event, A, the probability of it occurring and it not occurring must equal 1. That is, P(A)+P(A’)=1.\n",
    "\n",
    "•The Multiplication Rule for independent events states that the probability of independent events is given by the product of each events’ probability. Given two independent events, A and B, through the multiplication rule, it can be determined that the chance of A and B occurring is equal to P(A ∩ B)=P(A)∗P(B).\n",
    "\n",
    "•The Multiplication Rule for dependent events states that two events are dependent if the probability of both events occurring does not equal the product of the probability of A and B occurring independently. That is, two events are dependent if P(A ∩ B)≠P(A)∗P(B). The multiplication rule for dependent events can be generally written as P(A ∩ B)=P(A)∗P(B|A). \n",
    "\n",
    "•The Addition Rule for mutually exclusive events states that the probability of two mutually exclusive events, A or B, occurring is the sum of the events’ respective probabilities. The probability of both events occurring together in this case is 0. The probability of mutually exclusive events occurring is therefore given by P(A ∪ B)=P(A)+P(B). \n",
    "\n",
    "•The Addition Rule for non-mutually exclusive events describes the probability of two events occurring separately or together. In this case, the probability of either of the events occurring, or both, is given by P(A ∪ B)=P(A)+P(B)−P(A ∩ B). \n",
    "\n",
    "•The Conditional Probability Rule/Bayes Rule states that P(B|A)=P(A|B)∗P⁡(B)/P(A). Bayes rule allows you to determine the probability of an event occurring given that another dependent event has occurred. "
   ]
  },
  {
   "cell_type": "markdown",
   "id": "ae69c7b3",
   "metadata": {},
   "source": [
    "### Part 2 Probability Calculation"
   ]
  },
  {
   "cell_type": "markdown",
   "id": "fc040ed3",
   "metadata": {},
   "source": [
    "<img src=\"photo.png\">"
   ]
  },
  {
   "cell_type": "markdown",
   "id": "b329876f",
   "metadata": {},
   "source": [
    "### Part 3 Probability Calculation"
   ]
  },
  {
   "cell_type": "markdown",
   "id": "4ecc49ef",
   "metadata": {},
   "source": [
    "Under the assumption that each box has contains the same number of light bulbs and the probablity of choosing any of the four boxes is equal at 0.25 percent. The probability of choosing a defective lightbulb from the four boxes 1-4 is 0.05, 0.4, 0.1 and 0.25 respectively. The probabilty of choosing a defective lightbulb can be calculated as provided below. <img src=\"defective.png\">"
   ]
  },
  {
   "cell_type": "markdown",
   "id": "f4a6eb42",
   "metadata": {},
   "source": [
    "### Part 4 Probability Calculation\n",
    "Provided that we know that event A has occured; the choosing of a defective lightbulb. We now want to determine the probability that the lightbulb orginated from box 2. This presents with a conditional probability and can be calculated as provided below. <img src=\"box2.png\">"
   ]
  },
  {
   "cell_type": "code",
   "execution_count": null,
   "id": "3114e4c7",
   "metadata": {},
   "outputs": [],
   "source": []
  }
 ],
 "metadata": {
  "kernelspec": {
   "display_name": "Python 3 (ipykernel)",
   "language": "python",
   "name": "python3"
  },
  "language_info": {
   "codemirror_mode": {
    "name": "ipython",
    "version": 3
   },
   "file_extension": ".py",
   "mimetype": "text/x-python",
   "name": "python",
   "nbconvert_exporter": "python",
   "pygments_lexer": "ipython3",
   "version": "3.8.8"
  }
 },
 "nbformat": 4,
 "nbformat_minor": 5
}
