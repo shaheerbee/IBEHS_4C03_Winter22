{
 "cells": [
  {
   "cell_type": "code",
   "execution_count": 2,
   "id": "b983a835-38ef-44ea-998c-58cb98aa7a70",
   "metadata": {},
   "outputs": [
    {
     "name": "stdin",
     "output_type": "stream",
     "text": [
      "Once deleted, variables cannot be recovered. Proceed (y/[n])?  y\n"
     ]
    }
   ],
   "source": [
    "%reset\n",
    "import numpy as np\n",
    "import pandas as pd\n",
    "import matplotlib.pyplot as plt\n",
    "import seaborn as sns\n",
    "import scipy\n",
    "from scipy import stats\n",
    "from scipy.stats import norm\n",
    "import statsmodels.api as sm"
   ]
  },
  {
   "cell_type": "markdown",
   "id": "cb1c536f-21ec-4a41-b2ec-b3df31396d5b",
   "metadata": {},
   "source": [
    "# 2 Sample t-test for testing for the differences in means: Independent t-test\n",
    "\n",
    "It is known that smoking is associated with chronic obstructive pulmaonary disease.  Research has shown that this process is linked with a number of inflammatory signatures in exhaled breath condensate (EBC), one of which is nitrite concentration. Average nitrate EBC concentration was collected from eleven nonsmokers and nine smokers.   \n",
    "\n",
    "Determine whether there is a significant difference in the mean nitrite EBC concentration between smokers and non-smokers, using a confidence level of 95%. \n",
    "\n",
    "Load and explore the data"
   ]
  },
  {
   "cell_type": "code",
   "execution_count": 62,
   "id": "49c689c9-d855-4da7-afe4-55b350c519bb",
   "metadata": {},
   "outputs": [],
   "source": [
    "Nonsmokers=pd.Series([15723, 18990, 7597, 24160, 12044, 17636, 19792, 24945, 21372, 19271, 22804])\n",
    "Smokers=pd.Series([24960, 31210, 28234, 17786, 30612, 25944, 19437, 16945, 23434])"
   ]
  },
  {
   "cell_type": "code",
   "execution_count": 63,
   "id": "51a73864-cd73-42e3-b11a-cbf529bbf11c",
   "metadata": {},
   "outputs": [
    {
     "data": {
      "image/png": "[encoded data removed]",
      "text/plain": [
       "<Figure size 432x288 with 1 Axes>"
      ]
     },
     "metadata": {
      "needs_background": "light"
     },
     "output_type": "display_data"
    }
   ],
   "source": [
    "# Plot the data to visualize\n",
    "ax=sns.boxplot(data=[Nonsmokers,Smokers],showmeans=True)\n",
    "ax.set(xlabel=\"Smoking\")\n",
    "ax.set(ylabel=\"Nitrite\")\n",
    "ax=sns.swarmplot(data=[Nonsmokers,Smokers])"
   ]
  },
  {
   "cell_type": "code",
   "execution_count": 64,
   "id": "8e2691cd-e027-40c8-bf73-2774890e1f12",
   "metadata": {},
   "outputs": [
    {
     "data": {
      "text/plain": [
       "count       11.000000\n",
       "mean     18575.818182\n",
       "std       5213.449603\n",
       "min       7597.000000\n",
       "25%      16679.500000\n",
       "50%      19271.000000\n",
       "75%      22088.000000\n",
       "max      24945.000000\n",
       "dtype: float64"
      ]
     },
     "execution_count": 64,
     "metadata": {},
     "output_type": "execute_result"
    }
   ],
   "source": [
    "Nonsmokers.describe()"
   ]
  },
  {
   "cell_type": "code",
   "execution_count": 65,
   "id": "bf71ee81-5779-49aa-a896-fdf7abc01f1c",
   "metadata": {},
   "outputs": [
    {
     "data": {
      "text/plain": [
       "count        9.000000\n",
       "mean     24284.666667\n",
       "std       5328.331892\n",
       "min      16945.000000\n",
       "25%      19437.000000\n",
       "50%      24960.000000\n",
       "75%      28234.000000\n",
       "max      31210.000000\n",
       "dtype: float64"
      ]
     },
     "execution_count": 65,
     "metadata": {},
     "output_type": "execute_result"
    }
   ],
   "source": [
    "Smokers.describe()"
   ]
  },
  {
   "cell_type": "markdown",
   "id": "0e34bfd6-c4a8-4e59-954b-e64d27e4b773",
   "metadata": {},
   "source": [
    "By default numpy uses a maximum likelihood estimate for the standard deviation (degrees of freedom (DF) = n so ddof=0), so to have it do the unbiased estimation we set the ddof = 1. Note that this is different than what pandas does. By default pandas uses ddof=1."
   ]
  },
  {
   "cell_type": "code",
   "execution_count": 66,
   "id": "3b838e8d-abd4-44f3-af2c-af45775352bd",
   "metadata": {},
   "outputs": [
    {
     "name": "stdout",
     "output_type": "stream",
     "text": [
      "5213.449603059031\n",
      "5328.331891877608\n"
     ]
    }
   ],
   "source": [
    "# standard deviation of the sample use ddof n-1\n",
    "stdNonsmokers=np.std(Nonsmokers,ddof=1)\n",
    "stdSmokers=np.std(Smokers,ddof=1)\n",
    "print(stdNonsmokers)\n",
    "print(stdSmokers)"
   ]
  },
  {
   "cell_type": "markdown",
   "id": "a5c05729-b5f2-42ea-8c6e-034a2d49cbfa",
   "metadata": {},
   "source": [
    "First revew assumptions of 2 sample t-tests:  independence of sample (no trends within sample) and between samples (sample A does not affect sample B), normality, and equal variance.\n",
    "\n",
    "Samples are independent from each other (not lnked or paired). \n",
    "Let's look at the assumption of normality next.  First we will run a a Shapiro-Wilk test to test if the sample data is well-modelled by a normal distribution and to compute how likely it is for a random variable underlying the data set to be  normally distributed.  \n",
    "\n",
    "Remember that this tests the null hypothesis that the sample is normally disributed.  Larger than 0.05 p-value means we fail to reject the null hypothesis (that the distribution of the sample is sig different from a normal distribution) and conclude that the sample is not significnatly different from a normal distribution."
   ]
  },
  {
   "cell_type": "code",
   "execution_count": 67,
   "id": "d26b3002-9af7-49b8-93f9-eb03ee7ee590",
   "metadata": {},
   "outputs": [
    {
     "data": {
      "text/plain": [
       "ShapiroResult(statistic=0.9328736662864685, pvalue=0.44065022468566895)"
      ]
     },
     "execution_count": 67,
     "metadata": {},
     "output_type": "execute_result"
    }
   ],
   "source": [
    "stats.shapiro(Nonsmokers)"
   ]
  },
  {
   "cell_type": "code",
   "execution_count": 68,
   "id": "f340f48a-9e2b-4ca1-abfa-512e095e3e68",
   "metadata": {},
   "outputs": [
    {
     "data": {
      "text/plain": [
       "ShapiroResult(statistic=0.9306090474128723, pvalue=0.4871675968170166)"
      ]
     },
     "execution_count": 68,
     "metadata": {},
     "output_type": "execute_result"
    }
   ],
   "source": [
    "stats.shapiro(Smokers)"
   ]
  },
  {
   "cell_type": "markdown",
   "id": "37605fa3-9fba-4fc2-be38-c0ec4bd92c79",
   "metadata": {},
   "source": [
    "We have shown that the two samples are normally distributed.  Now let's look at the assumption of equal variance (homogeneity of variance or homoscedasticity).  We want to assume that the varianes of the populations from which the different samples are drawn are equal.  We will look at the Levene's test, that tests the hypothesis that the population variances are equal.  The Levene test is pretty conservative, and you can use center='mean', 'median', or 'trimmed' to test with, with median being the most conservative and the dafault in SciPy.  If the resulting p-value is less than the chosen significnace level, the null hypothesis can be rejected and you conclude that there is a differnece between the variances.  Larger than 0.05 p-value measn we fail to reject the null hypthesis and conclude that we think that the variances are the same.  "
   ]
  },
  {
   "cell_type": "code",
   "execution_count": 69,
   "id": "d3174299-2444-4771-94c4-19077f242091",
   "metadata": {},
   "outputs": [
    {
     "data": {
      "text/plain": [
       "LeveneResult(statistic=0.13178107984421228, pvalue=0.7208204036312478)"
      ]
     },
     "execution_count": 69,
     "metadata": {},
     "output_type": "execute_result"
    }
   ],
   "source": [
    "stats.levene(Nonsmokers,Smokers,center='median')"
   ]
  },
  {
   "cell_type": "markdown",
   "id": "9c51aa98-6db8-444d-9b4a-f77a054a5bc5",
   "metadata": {},
   "source": [
    "We have looked at tests for normality and equal variance.  Let's also look at these assumptions visually using qq plots.  Remember that using qq plots are the best way and most accepted way to judge the assumptions of these tests, but the determiniations are subjective and take some getting use to.    "
   ]
  },
  {
   "cell_type": "markdown",
   "id": "e117feda-610f-4712-8870-07b3b7425c99",
   "metadata": {},
   "source": [
    "Let's look at normality via qq plots and plot this data on a qq plot. This method to plot the qq plots also takes loc (mean=location) and scale (std=scale) as the values. We'll use the ones calculated from our data set because in actuality we don't know the true population parameters. The additional parameter line='45' plots the y=x line on the same plot."
   ]
  },
  {
   "cell_type": "code",
   "execution_count": 70,
   "id": "588fbb3f-7251-48f7-b78a-33854fe5d2aa",
   "metadata": {},
   "outputs": [
    {
     "name": "stderr",
     "output_type": "stream",
     "text": [
      "C:\\Users\\nabil\\anaconda3\\lib\\site-packages\\statsmodels\\graphics\\gofplots.py:993: UserWarning: marker is redundantly defined by the 'marker' keyword argument and the fmt string \"bo\" (-> marker='o'). The keyword argument will take precedence.\n",
      "  ax.plot(x, y, fmt, **plot_style)\n",
      "C:\\Users\\nabil\\anaconda3\\lib\\site-packages\\statsmodels\\graphics\\gofplots.py:993: UserWarning: marker is redundantly defined by the 'marker' keyword argument and the fmt string \"bo\" (-> marker='o'). The keyword argument will take precedence.\n",
      "  ax.plot(x, y, fmt, **plot_style)\n"
     ]
    },
    {
     "data": {
      "image/png": "[encoded data removed]",
      "text/plain": [
       "<Figure size 720x288 with 2 Axes>"
      ]
     },
     "metadata": {
      "needs_background": "light"
     },
     "output_type": "display_data"
    }
   ],
   "source": [
    "Nonsmokers.sort_values()\n",
    "Smokers.sort_values()\n",
    "fig2,ax2=plt.subplots(nrows=1,ncols=2,figsize=(10,4))\n",
    "sm.qqplot(Nonsmokers,line='45',loc=np.mean(Nonsmokers),scale=stdNonsmokers,ax=ax2[0])\n",
    "sm.qqplot(Smokers,line='45',loc=np.mean(Smokers),scale=stdSmokers,ax=ax2[1])\n",
    "plt.show()"
   ]
  },
  {
   "cell_type": "markdown",
   "id": "44baff4e-ebc1-4797-ba93-c0b34655541d",
   "metadata": {},
   "source": [
    "Now let's run the statistical test using the student's t-test for independent samples. We will look at using the Python library SciPy (that we imported as stats) and statsmodels (that we imported as sm).  We will run the hypothesis test and look at the 95% CI of the difference in means between the samples.  "
   ]
  },
  {
   "cell_type": "code",
   "execution_count": 71,
   "id": "6a8e7482-516a-4089-aaa3-e3ee08cf69b9",
   "metadata": {},
   "outputs": [
    {
     "data": {
      "text/plain": [
       "Ttest_indResult(statistic=-2.41250244778529, pvalue=0.02673144417952557)"
      ]
     },
     "execution_count": 71,
     "metadata": {},
     "output_type": "execute_result"
    }
   ],
   "source": [
    "stats.ttest_ind(Nonsmokers,Smokers,equal_var=True)"
   ]
  },
  {
   "cell_type": "code",
   "execution_count": 72,
   "id": "722cff8b-add7-4731-a4fd-6e93d2a16025",
   "metadata": {},
   "outputs": [
    {
     "data": {
      "text/plain": [
       "(-2.41250244778529, 0.02673144417952557, 18.0)"
      ]
     },
     "execution_count": 72,
     "metadata": {},
     "output_type": "execute_result"
    }
   ],
   "source": [
    "sm.stats.ttest_ind(Nonsmokers,Smokers,usevar='pooled')"
   ]
  },
  {
   "cell_type": "code",
   "execution_count": 73,
   "id": "17d61050-3998-4e44-90a9-0697ae7c49ec",
   "metadata": {},
   "outputs": [
    {
     "name": "stdout",
     "output_type": "stream",
     "text": [
      "(-10680.385660789972, -737.3113089070039)\n"
     ]
    }
   ],
   "source": [
    "cm=sm.stats.CompareMeans(sm.stats.DescrStatsW(Nonsmokers),sm.stats.DescrStatsW(Smokers))\n",
    "print(cm.tconfint_diff(usevar='pooled'))"
   ]
  },
  {
   "cell_type": "markdown",
   "id": "58575c24-78a5-4c37-a33a-ceb6c7f17026",
   "metadata": {},
   "source": [
    "Let's look at the calculations. \\\n",
    "n − 1 is the number of degrees of freedom for each group, and the total sample size minus two (that is, n1 + n2 − 2) is the total number of degrees of freedom, which is used in significance testing.\n",
    "\n",
    "18 dof, n1+n2-2 = 11+9-2=18"
   ]
  },
  {
   "cell_type": "code",
   "execution_count": 74,
   "id": "d3e52f08-ef7f-4739-adb4-5123fc953c9b",
   "metadata": {},
   "outputs": [
    {
     "name": "stdout",
     "output_type": "stream",
     "text": [
      "The number of observations in the samples are: 11 and 9\n",
      "The standard deviation of the sampes are: 5213.449603059031 and 5328.331891877608\n",
      "The mean of the samples are: 18575.81818181818 and 24284.666666666668\n",
      "The varaince are the samples are: 27180056.763636366 and 28391120.750000004\n",
      "The degrees of freedom are: 18\n"
     ]
    }
   ],
   "source": [
    "nA=len(Nonsmokers)\n",
    "nB=len(Smokers)\n",
    "print(\"The number of observations in the samples are: \" + str(nA)+\" and \" +str(nB))\n",
    "print(\"The standard deviation of the sampes are: \"+ str(stdNonsmokers)+\" and \"+ str(stdSmokers))\n",
    "print(\"The mean of the samples are: \"+ str(np.mean(Nonsmokers)) +\" and \"+str(np.mean(Smokers)))\n",
    "print(\"The varaince are the samples are: \"+str(stdNonsmokers**2)+\" and \"+ str(stdSmokers**2))\n",
    "print(\"The degrees of freedom are: \"+ str(len(Nonsmokers)+len(Smokers)-2))"
   ]
  },
  {
   "attachments": {
    "3ac4b38b-5aac-47e2-984a-5a46b62e57b5.png": {
     "image/png": "[encoded data removed]"
    }
   },
   "cell_type": "markdown",
   "id": "69186047-3b43-4b1a-924c-796a83cfea79",
   "metadata": {},
   "source": [
    "We will calculate a pooled estimate of the combined standard deviations, which is a weighted average of the two standard deviations, used when the variances are equivalent to each other \\\n",
    "![image.png](attachment:3ac4b38b-5aac-47e2-984a-5a46b62e57b5.png)"
   ]
  },
  {
   "cell_type": "code",
   "execution_count": 75,
   "id": "688cec6a-e7c0-40ab-b55f-b7f65a99ecff",
   "metadata": {},
   "outputs": [
    {
     "name": "stdout",
     "output_type": "stream",
     "text": [
      "The pooled standard deviation is:  5264.817890890664\n"
     ]
    }
   ],
   "source": [
    "s_pooled=np.sqrt((((nA-1)*stdNonsmokers**2)+((nB-1)*stdSmokers**2))/(nA+nB-2))\n",
    "print(\"The pooled standard deviation is:  \"+str(s_pooled))"
   ]
  },
  {
   "attachments": {
    "666a7849-21b2-410c-aa5f-5b85b78951af.png": {
     "image/png": "[encoded data removed]"
    }
   },
   "cell_type": "markdown",
   "id": "69dfaeb4-d032-415e-b2dc-f47a54cf8873",
   "metadata": {},
   "source": [
    "The t statistic to test whether the means are different can be calculated as follows: \\\n",
    "![image.png](attachment:666a7849-21b2-410c-aa5f-5b85b78951af.png)"
   ]
  },
  {
   "cell_type": "code",
   "execution_count": 76,
   "id": "fc720103-f291-4c75-a21a-3757de749ec4",
   "metadata": {},
   "outputs": [
    {
     "name": "stdout",
     "output_type": "stream",
     "text": [
      "The standard error of the difference is: 2366.3596652883343\n"
     ]
    }
   ],
   "source": [
    "StandErrorDiff=s_pooled*(np.sqrt(1/11+1/9))\n",
    "print(\"The standard error of the difference is: \"+str(StandErrorDiff))"
   ]
  },
  {
   "cell_type": "code",
   "execution_count": 77,
   "id": "535b1f99-17a8-41ca-a31c-c2f818a30ca0",
   "metadata": {},
   "outputs": [
    {
     "name": "stdout",
     "output_type": "stream",
     "text": [
      "The difference in means is:-5708.848484848488\n"
     ]
    }
   ],
   "source": [
    "print(\"The difference in means is:\" + str(np.mean(Nonsmokers)-np.mean(Smokers)))"
   ]
  },
  {
   "cell_type": "code",
   "execution_count": 78,
   "id": "07c921f0-e825-4cfb-b9d8-9593f0174ef4",
   "metadata": {},
   "outputs": [
    {
     "data": {
      "text/plain": [
       "-2.412502324244832"
      ]
     },
     "execution_count": 78,
     "metadata": {},
     "output_type": "execute_result"
    }
   ],
   "source": [
    "# The t test statistic\n",
    "-5708.849/(2366.360)"
   ]
  },
  {
   "cell_type": "markdown",
   "id": "24bc16cc-e805-4548-90c7-a2fc6c036f2b",
   "metadata": {},
   "source": [
    "To find the critical t value using a t table, find the t-value at dof=18 and at 1-alpha/2 = 0.975 = 0.025 = 2.101"
   ]
  },
  {
   "cell_type": "code",
   "execution_count": 79,
   "id": "a154a7ba-56cf-4443-bbe1-ace214e84c99",
   "metadata": {},
   "outputs": [
    {
     "name": "stdout",
     "output_type": "stream",
     "text": [
      "2.10092204024096\n"
     ]
    }
   ],
   "source": [
    "Critical_t=stats.t.ppf(0.975,18)\n",
    "print(Critical_t)"
   ]
  },
  {
   "cell_type": "markdown",
   "id": "028a440a-f4f0-4d49-b7bb-e913087570e6",
   "metadata": {},
   "source": [
    "Since the absolute value of our test statistic is greater than the critical t, then we know that the difference in means is statistically significnat at alpha = 0.05."
   ]
  },
  {
   "cell_type": "markdown",
   "id": "f10599ac-e4d7-47f4-b3a5-c330977be058",
   "metadata": {},
   "source": [
    "To find the p-value, we can work backwards from a t-table at the t test statistic.\n",
    "Find the t-value using dof=18 of 2.4125 on the t-table and find the area under the curve.  This would be betweeen p= 0.025 and p=0.01 (closer to 0.01).  Since this is a two-sided test, we need to double this to p-value = 0.02 to 0.05. The exact p-value is "
   ]
  },
  {
   "cell_type": "code",
   "execution_count": 80,
   "id": "04870e67-ab63-4dbd-ba4e-7950f217f9c3",
   "metadata": {},
   "outputs": [
    {
     "data": {
      "text/plain": [
       "0.01336578935158508"
      ]
     },
     "execution_count": 80,
     "metadata": {},
     "output_type": "execute_result"
    }
   ],
   "source": [
    "stats.t.cdf(-2.4125,18)"
   ]
  },
  {
   "cell_type": "code",
   "execution_count": 81,
   "id": "01bd5002-f6dc-448f-9eea-c9373d516ff7",
   "metadata": {},
   "outputs": [
    {
     "data": {
      "text/plain": [
       "0.02673157870317016"
      ]
     },
     "execution_count": 81,
     "metadata": {},
     "output_type": "execute_result"
    }
   ],
   "source": [
    "2*(stats.t.cdf(-2.4125,18))"
   ]
  },
  {
   "cell_type": "markdown",
   "id": "fb57579e-5324-40d3-a69f-a4ea73fae9c2",
   "metadata": {},
   "source": [
    "The p-value=0.027 is less than p=0.05 (our alpha level), so we are confident to reject the null hypothesis (null hypothesis = that there is no true differnce in the means of our samples or that the difference means of the samples = 0).  We therefor accept the alternative hypotheiss and state that there is a significant different in the means.  "
   ]
  },
  {
   "cell_type": "markdown",
   "id": "f23553f5-93ff-4ac2-a4b7-aa9016ad7f81",
   "metadata": {},
   "source": [
    "# 95% Confidence Interval of the Difference in Means"
   ]
  },
  {
   "attachments": {
    "2f504480-8f83-4065-8af0-4366414de0ea.png": {
     "image/png": "[encoded data removed]"
    }
   },
   "cell_type": "markdown",
   "id": "9cb2fc61-946f-4a9b-9fdb-c33e036e66cf",
   "metadata": {},
   "source": [
    "equation for 95% CI: ![image.png](attachment:2f504480-8f83-4065-8af0-4366414de0ea.png)"
   ]
  },
  {
   "cell_type": "code",
   "execution_count": 82,
   "id": "6f95a011-7eca-4766-b4e5-5d3e58ce005d",
   "metadata": {},
   "outputs": [
    {
     "name": "stdout",
     "output_type": "stream",
     "text": [
      "-10680.38566078997\n",
      "-737.3113089070048\n"
     ]
    }
   ],
   "source": [
    "LB=(np.mean(Nonsmokers)-np.mean(Smokers)) - Critical_t*s_pooled* (np.sqrt(1/11 + 1/9))\n",
    "UB=(np.mean(Nonsmokers)-np.mean(Smokers)) + Critical_t*s_pooled* (np.sqrt(1/11 + 1/9))\n",
    "print(LB)\n",
    "print(UB)"
   ]
  },
  {
   "cell_type": "markdown",
   "id": "5b2bf040-8774-473b-8201-328fd60f36c0",
   "metadata": {},
   "source": [
    "Interpretation:  The 95%CI of difference in means is = (-10680.386 to-737.31).  The confidence interval for meanA-meanB (the difference in sample means) does not cross 0 and has a negative range of values.  If the CI crossed 0 then no difference would be within the plausible values of the true diffenece in means and it would be a non-significnat finding.  Our results show that mean A is smaller than mean B, and that the difference in means is statistically significant at the 95% confidence level, with p=0.027.  "
   ]
  },
  {
   "cell_type": "markdown",
   "id": "6be1761b-5fab-42a3-843f-9fa90bbf9d6f",
   "metadata": {},
   "source": [
    "Note:  It is of note that if 2 seperate CIs, each from one sample, do overlap, then you could still have a significant t-test stating that the differnece in the means is significantly different (rare but possible), but if the CIs of the samples do not overlap then the difference in means will be significant.  In general, you want to test the difference in means between the samples.  "
   ]
  },
  {
   "cell_type": "markdown",
   "id": "10cb8ba5-93d3-4f14-8d0d-b0804f935c57",
   "metadata": {},
   "source": [
    "# 2 sample test for the Difference in Means, Unequal Variances"
   ]
  },
  {
   "cell_type": "markdown",
   "id": "6fbee6b9-4002-45de-9697-9bb9267ad6f7",
   "metadata": {},
   "source": [
    "Note:  you will not have to do these calculations by hand.  But in general, this is what you would run for all 2 sample tests: the Welch's t-test.  \n",
    "\n",
    "Exmaple:  Arsenic concentration in public drinking water supplies is a potential health risk. A water-treatment wroker tests the drinking water arsenic concentrations in parts per billion (ppb) for 10 urban communities and 10 rural communities in Ontario.  The data is provided.  Find out if there is any differnece in mean arsenic concentrations between urban and rural community drinking water.  "
   ]
  },
  {
   "cell_type": "code",
   "execution_count": 25,
   "id": "a9fe3452-fccd-427b-9f0e-e33ba89fc90d",
   "metadata": {},
   "outputs": [],
   "source": [
    "Urban=pd.Series([3,7,25,10,15,6,12,25,15,7])\n",
    "Rural=pd.Series([48,44,40,38,33,21,20,12,1,18])"
   ]
  },
  {
   "cell_type": "code",
   "execution_count": 26,
   "id": "4fef76f0-53b4-4e7b-a79b-2845c11535b9",
   "metadata": {},
   "outputs": [
    {
     "data": {
      "image/png": "[encoded data removed]",
      "text/plain": [
       "<Figure size 432x288 with 1 Axes>"
      ]
     },
     "metadata": {
      "needs_background": "light"
     },
     "output_type": "display_data"
    }
   ],
   "source": [
    "# Plot the data to visualize\n",
    "ax=sns.boxplot(data=[Urban,Rural],showmeans=True)\n",
    "ax.set(xlabel=\"Urban or Rural\")\n",
    "ax.set(ylabel=\"Arsenic ppb in Drinking Water\")\n",
    "ax=sns.swarmplot(data=[Urban,Rural])"
   ]
  },
  {
   "cell_type": "code",
   "execution_count": 27,
   "id": "d6cd519a-c930-47b3-b5ca-09968ea7eea4",
   "metadata": {},
   "outputs": [
    {
     "name": "stderr",
     "output_type": "stream",
     "text": [
      "C:\\Users\\nabil\\anaconda3\\lib\\site-packages\\statsmodels\\graphics\\gofplots.py:993: UserWarning: marker is redundantly defined by the 'marker' keyword argument and the fmt string \"bo\" (-> marker='o'). The keyword argument will take precedence.\n",
      "  ax.plot(x, y, fmt, **plot_style)\n",
      "C:\\Users\\nabil\\anaconda3\\lib\\site-packages\\statsmodels\\graphics\\gofplots.py:993: UserWarning: marker is redundantly defined by the 'marker' keyword argument and the fmt string \"bo\" (-> marker='o'). The keyword argument will take precedence.\n",
      "  ax.plot(x, y, fmt, **plot_style)\n"
     ]
    },
    {
     "data": {
      "image/png": "[encoded data removed]",
      "text/plain": [
       "<Figure size 720x288 with 2 Axes>"
      ]
     },
     "metadata": {
      "needs_background": "light"
     },
     "output_type": "display_data"
    }
   ],
   "source": [
    "# Check normality\n",
    "Urban.sort_values()\n",
    "Rural.sort_values()\n",
    "fig2,ax2=plt.subplots(nrows=1,ncols=2,figsize=(10,4))\n",
    "sm.qqplot(Urban,line='45',loc=np.mean(Urban),scale=np.std(Urban,ddof=1),ax=ax2[0])\n",
    "sm.qqplot(Rural,line='45',loc=np.mean(Rural),scale=np.std(Rural,ddof=1),ax=ax2[1])\n",
    "plt.show()"
   ]
  },
  {
   "cell_type": "code",
   "execution_count": 28,
   "id": "6a1f5298-5654-450d-9dae-87d7571eedb8",
   "metadata": {},
   "outputs": [
    {
     "data": {
      "text/plain": [
       "ShapiroResult(statistic=0.8936105370521545, pvalue=0.18614982068538666)"
      ]
     },
     "execution_count": 28,
     "metadata": {},
     "output_type": "execute_result"
    }
   ],
   "source": [
    "stats.shapiro(Urban)"
   ]
  },
  {
   "cell_type": "code",
   "execution_count": 29,
   "id": "79c619c4-0c45-454c-b470-27d1c1f004e3",
   "metadata": {},
   "outputs": [
    {
     "data": {
      "text/plain": [
       "ShapiroResult(statistic=0.9506648182868958, pvalue=0.6763707995414734)"
      ]
     },
     "execution_count": 29,
     "metadata": {},
     "output_type": "execute_result"
    }
   ],
   "source": [
    "stats.shapiro(Rural)"
   ]
  },
  {
   "cell_type": "code",
   "execution_count": 30,
   "id": "35f9e412-6e9a-4ba4-b0d8-2ecc8b9fcf9b",
   "metadata": {},
   "outputs": [
    {
     "data": {
      "text/plain": [
       "LeveneResult(statistic=7.7015516672169, pvalue=0.012482954069299166)"
      ]
     },
     "execution_count": 30,
     "metadata": {},
     "output_type": "execute_result"
    }
   ],
   "source": [
    "# Check for equal variance \n",
    "stats.levene(Urban,Rural,center='median')"
   ]
  },
  {
   "cell_type": "markdown",
   "id": "01edc75e-7a2d-4e44-b74b-72c277667a5c",
   "metadata": {},
   "source": [
    "Here the Levene's test states that we reject the null hypothesis that the Varinaces are equal for the two samples, so we accept the alternative hypothesis that they are different. So we need to use the t-test for independent samples to test for a difference beween means with samples with unequal variances. "
   ]
  },
  {
   "attachments": {
    "1199f435-7cb3-4c65-9222-4bfdab060dfb.png": {
     "image/png": "[encoded data removed]"
    },
    "a9957efc-95bc-4925-9baf-81c87369ab3f.png": {
     "image/png": "[encoded data removed]"
    },
    "e39b5d9f-d25a-4a7d-9a25-c7b17280777c.png": {
     "image/png": "[encoded data removed]"
    }
   },
   "cell_type": "markdown",
   "id": "0f1f9e20-3699-4acd-8534-0aefa01e373c",
   "metadata": {},
   "source": [
    "Parameter of interest:  the ppulation means for the two areas in Ontario, urban versus rural \\\n",
    "The hypothesis:  H0:  $\\mu1-\\mu2=0$; or H0: $\\mu1=\\mu2$ \\\n",
    "                 HA: $\\mu1 \\neq \\mu2$ \\\n",
    "The test statistic:  Calculate test statistic for t-test with inequal variances\n",
    "![image.png](attachment:a9957efc-95bc-4925-9baf-81c87369ab3f.png) where ![image.png](attachment:e39b5d9f-d25a-4a7d-9a25-c7b17280777c.png) \\\n",
    "The dof = ![image.png](attachment:1199f435-7cb3-4c65-9222-4bfdab060dfb.png), where you round round to the nearest interger to find the degrees of freedom.  Here dof=13.2 ~ 13. \\\n",
    "The critical value of t at df=13 and alpha=0.05 is "
   ]
  },
  {
   "cell_type": "code",
   "execution_count": 31,
   "id": "de181e85-d6d8-43cb-94f9-3cb88093ba70",
   "metadata": {},
   "outputs": [
    {
     "data": {
      "text/plain": [
       "Ttest_indResult(statistic=-2.7669395785560558, pvalue=0.015827284816100885)"
      ]
     },
     "execution_count": 31,
     "metadata": {},
     "output_type": "execute_result"
    }
   ],
   "source": [
    "stats.ttest_ind(Urban,Rural,equal_var=False)"
   ]
  },
  {
   "cell_type": "code",
   "execution_count": 32,
   "id": "c4218f06-e4b3-4bfe-9689-7bc23fac3ba8",
   "metadata": {},
   "outputs": [
    {
     "data": {
      "text/plain": [
       "2.1603686564610127"
      ]
     },
     "execution_count": 32,
     "metadata": {},
     "output_type": "execute_result"
    }
   ],
   "source": [
    "# critical value of t at df=13 and alpha = 0.05 for a two-sided test.\n",
    "stats.t.ppf(0.975,13)"
   ]
  },
  {
   "cell_type": "markdown",
   "id": "4b11014f-71d9-485a-9559-1b590c76c438",
   "metadata": {},
   "source": [
    "Since the absoulte value of the test statistic is as extreme or more extreme than the critical t value, we know it is a significnat result."
   ]
  },
  {
   "cell_type": "markdown",
   "id": "5d529c32-7281-48bb-9a03-7cb76675768e",
   "metadata": {},
   "source": [
    "From the t-table we know that the p-value for a test statistic with 13 dof of 2.767 is between 0.01 and 0.005, which doubling is between 0.02 and 0.01.  Our exact p-value was found to be 0.016, so we reject the null hypotheiss and accept the alternative hypothesis that the mean arsenic cocentration in drinking water in Urban Ontario is different than the mean arsenic concentration in drinking water in rural Ontario."
   ]
  },
  {
   "cell_type": "markdown",
   "id": "97bb2de6-6ad2-4f99-849d-934183071271",
   "metadata": {},
   "source": [
    "equation for the 95% CI unequal variances \\\n",
    "\n",
    "Mean observed difference = 12.5-17.5 = -15 ppb"
   ]
  },
  {
   "cell_type": "code",
   "execution_count": 33,
   "id": "a65aecdf-d657-475b-8384-17e677384b60",
   "metadata": {},
   "outputs": [
    {
     "data": {
      "text/plain": [
       "-15.0"
      ]
     },
     "execution_count": 33,
     "metadata": {},
     "output_type": "execute_result"
    }
   ],
   "source": [
    "np.mean(Urban) - np.mean(Rural)"
   ]
  },
  {
   "cell_type": "code",
   "execution_count": 34,
   "id": "f2202587-7540-4f5d-8236-bb54b98c2cbe",
   "metadata": {},
   "outputs": [
    {
     "name": "stdout",
     "output_type": "stream",
     "text": [
      "(-26.694067105436396, -3.3059328945636057)\n"
     ]
    }
   ],
   "source": [
    "# The 95% CI; note that it does not include 0.\n",
    "cm=sm.stats.CompareMeans(sm.stats.DescrStatsW(Urban),sm.stats.DescrStatsW(Rural))\n",
    "print(cm.tconfint_diff(usevar='unequal'))"
   ]
  },
  {
   "cell_type": "markdown",
   "id": "8ff69134-e8e8-4260-865b-9a2197e5331f",
   "metadata": {},
   "source": [
    "# Paired t-test"
   ]
  },
  {
   "cell_type": "markdown",
   "id": "c169029e-bbde-47f1-b362-b9a58c9bf784",
   "metadata": {},
   "source": [
    "A researcher is developing a new drug delivery method (novel Method = B) for a well-established existing drug (typically delivered via Method A). They measured the uptake of the drug using Method A in 10 different lab mice waited several days for the drug to leave the mice’s system and then administered the drug in the alternate form (Method B) and once again measured the uptake. Knowing you’re on your way to becoming pro statisticians, they give you a conveniently formatted csv and ask you to help analyze their results.\n",
    "\n",
    "A) Is a two-sample test or a paired test more appropriate? Why?\n",
    "\n",
    "A paired test is more suitable because we have variability in common between our test pairs (aka the mice). We want to cancel the variability by running the paired test on each mouse.\n",
    "\n",
    "B) Based on your decision, calculate the 95% confidence interval for the difference $μ_B-μ_A$\n",
    "\n",
    "C) Interpret the confidence interval and make a conclusion for the researcher"
   ]
  },
  {
   "cell_type": "code",
   "execution_count": 35,
   "id": "24533064-3bb7-4bb1-a451-5039772e732e",
   "metadata": {},
   "outputs": [
    {
     "name": "stdout",
     "output_type": "stream",
     "text": [
      "   Unnamed: 0          A          B\n",
      "0           0  -3.662886  -3.422549\n",
      "1           1   8.306399  10.591479\n",
      "2           2   6.819711   6.130886\n",
      "3           3   9.757578  10.192032\n",
      "4           4  11.494306  15.299046\n",
      "5           5   8.937047   9.338760\n",
      "6           6  11.902184  13.513236\n",
      "7           7  14.772088  15.750661\n",
      "8           8   9.361552  13.113879\n",
      "9           9   9.268911   9.106832\n"
     ]
    }
   ],
   "source": [
    "data = pd.read_csv(\"PairedTTestTutorial.csv\")\n",
    "print(data)"
   ]
  },
  {
   "cell_type": "code",
   "execution_count": 36,
   "id": "9d4a7520-a685-4c22-879b-921ffd03ed21",
   "metadata": {},
   "outputs": [],
   "source": [
    "A = data['A']\n",
    "B = data['B']"
   ]
  },
  {
   "cell_type": "code",
   "execution_count": 37,
   "id": "f32b0638-53e7-498c-affc-1e5818b84c9b",
   "metadata": {},
   "outputs": [
    {
     "name": "stdout",
     "output_type": "stream",
     "text": [
      "0    0.240337\n",
      "1    2.285079\n",
      "2   -0.688826\n",
      "3    0.434454\n",
      "4    3.804739\n",
      "5    0.401713\n",
      "6    1.611052\n",
      "7    0.978573\n",
      "8    3.752327\n",
      "9   -0.162080\n",
      "dtype: float64\n"
     ]
    }
   ],
   "source": [
    "# The differnces\n",
    "diff = B - A\n",
    "print(diff)"
   ]
  },
  {
   "cell_type": "code",
   "execution_count": 38,
   "id": "058dc16c-e857-48e5-b964-2b4f408dab7d",
   "metadata": {},
   "outputs": [
    {
     "name": "stderr",
     "output_type": "stream",
     "text": [
      "C:\\Users\\nabil\\anaconda3\\lib\\site-packages\\statsmodels\\graphics\\gofplots.py:993: UserWarning: marker is redundantly defined by the 'marker' keyword argument and the fmt string \"bo\" (-> marker='o'). The keyword argument will take precedence.\n",
      "  ax.plot(x, y, fmt, **plot_style)\n"
     ]
    },
    {
     "data": {
      "image/png": "[encoded data removed]",
      "text/plain": [
       "<Figure size 432x288 with 1 Axes>"
      ]
     },
     "metadata": {
      "needs_background": "light"
     },
     "output_type": "display_data"
    }
   ],
   "source": [
    "diff.sort_values()\n",
    "sm.qqplot(diff,line='45',loc=np.mean(diff),scale=np.std(diff,ddof=1))\n",
    "plt.show()"
   ]
  },
  {
   "cell_type": "code",
   "execution_count": 39,
   "id": "41dcd76f-acf9-4759-9102-524d40dd7923",
   "metadata": {},
   "outputs": [
    {
     "data": {
      "text/plain": [
       "ShapiroResult(statistic=0.901043176651001, pvalue=0.22494257986545563)"
      ]
     },
     "execution_count": 39,
     "metadata": {},
     "output_type": "execute_result"
    }
   ],
   "source": [
    "stats.shapiro(diff)"
   ]
  },
  {
   "cell_type": "code",
   "execution_count": 40,
   "id": "fc8eb218-bdf4-4dd0-bd4f-b343670fcf65",
   "metadata": {},
   "outputs": [
    {
     "name": "stdout",
     "output_type": "stream",
     "text": [
      "1.26573684496122\n",
      "1.5712138525224093\n"
     ]
    }
   ],
   "source": [
    "# The mean difference\n",
    "mean_diff = np.mean(diff)\n",
    "std_diff= np.std(diff, ddof=1)\n",
    "print(mean_diff)\n",
    "print(std_diff)"
   ]
  },
  {
   "cell_type": "code",
   "execution_count": 41,
   "id": "cbd990a3-7dd9-4ad1-957a-5fc11073a1e0",
   "metadata": {},
   "outputs": [
    {
     "name": "stdout",
     "output_type": "stream",
     "text": [
      "2.2621571627409915\n"
     ]
    }
   ],
   "source": [
    "# critical t vaue using alpha=0.05 and df=9 for a two-sided test\n",
    "Ct = stats.t.ppf(0.975,9)\n",
    "print(Ct)"
   ]
  },
  {
   "cell_type": "code",
   "execution_count": 42,
   "id": "06bfffdb-992c-48f6-9160-fee419e6cf62",
   "metadata": {},
   "outputs": [
    {
     "name": "stdout",
     "output_type": "stream",
     "text": [
      "0.14175816483096826 <= population mean difference <= 2.389715525091472\n"
     ]
    }
   ],
   "source": [
    "LB = mean_diff - Ct*std_diff/np.sqrt(10)\n",
    "UB = mean_diff + Ct*std_diff/np.sqrt(10)\n",
    "print(str(LB) + \" <= population mean difference <= \" + str(UB))"
   ]
  },
  {
   "cell_type": "markdown",
   "id": "e4626984-e462-42d1-818e-72e87c8695cb",
   "metadata": {},
   "source": [
    "C) Since the CI does not span 0, we can conclude there is a statistically significant difference."
   ]
  },
  {
   "cell_type": "markdown",
   "id": "71e4d0e8-b5c8-4cbd-8e5f-7b25f5e154a2",
   "metadata": {},
   "source": [
    "Let's compare the paired test to the two-sample test results below:"
   ]
  },
  {
   "cell_type": "code",
   "execution_count": 43,
   "id": "65ab53ac-7fea-4d98-966d-2d4062684396",
   "metadata": {},
   "outputs": [
    {
     "name": "stdout",
     "output_type": "stream",
     "text": [
      "1.2657368449612196\n"
     ]
    }
   ],
   "source": [
    "mean_b = np.mean(B)\n",
    "mean_a = np.mean(A)\n",
    "std_a = np.std(A, ddof=1)\n",
    "std_b = np.std(B, ddof=1)\n",
    "print(mean_b - mean_a)"
   ]
  },
  {
   "cell_type": "code",
   "execution_count": 44,
   "id": "eccbde56-ec7a-4222-a7ad-da217c291b35",
   "metadata": {},
   "outputs": [
    {
     "name": "stdout",
     "output_type": "stream",
     "text": [
      "5.235192207806762\n"
     ]
    }
   ],
   "source": [
    "na = nb = 10\n",
    "s_p = np.sqrt((((na-1)*std_a**2)+((nb-1)*std_b**2))/(na + nb -2))\n",
    "print(s_p)"
   ]
  },
  {
   "cell_type": "code",
   "execution_count": 45,
   "id": "c47e4035-c9a4-4b25-abd5-22058fc51c8c",
   "metadata": {},
   "outputs": [
    {
     "name": "stdout",
     "output_type": "stream",
     "text": [
      "2.10092204024096\n"
     ]
    }
   ],
   "source": [
    "Ct = stats.t.ppf(0.975,18)\n",
    "print(Ct)"
   ]
  },
  {
   "cell_type": "code",
   "execution_count": 46,
   "id": "d5f29d89-f9ad-4a14-b078-763ce3592ee0",
   "metadata": {},
   "outputs": [
    {
     "name": "stdout",
     "output_type": "stream",
     "text": [
      "-1.1936541049009008 <= mu_b - mu_a <= 3.72512779482334\n"
     ]
    }
   ],
   "source": [
    "# Difference in means\n",
    "LB = (mean_b - mean_a) - Ct*s_p/np.sqrt(20)\n",
    "UB = (mean_b - mean_a) + Ct*s_p/np.sqrt(20)\n",
    "print(str(LB) + \" <= mu_b - mu_a <= \" + str(UB))"
   ]
  },
  {
   "cell_type": "markdown",
   "id": "10cc7bd5-adc0-4546-a88d-a0b47362c65c",
   "metadata": {},
   "source": [
    "Analyzing the results as a two-sample test the results are not statistically significant as the confidence interval crosses zero. The variability that occurs in the individual mice is NOT cancelled out as is the case in the paried test. This large variability in turn propagates to the confidence interval resulting in large bounds even though the average difference is the same for both cases!"
   ]
  },
  {
   "cell_type": "markdown",
   "id": "a97977d9-cc69-4899-ab2d-c9a21e4daac9",
   "metadata": {},
   "source": [
    "Paired t-test calculations.  \\\n",
    "You can use Python and scipy states stats.t-test realted to run a paired t test\n",
    "\n",
    "The you can find the t-statistic for the mean difference using the stanadrd errror of the differences.  This is a one sample t-test where the $\\mu$ is 0 for the new set of data (the differences)"
   ]
  },
  {
   "cell_type": "code",
   "execution_count": 47,
   "id": "589e98a1-085a-4575-a31c-e5655bbb0521",
   "metadata": {},
   "outputs": [
    {
     "data": {
      "text/plain": [
       "Ttest_relResult(statistic=-2.5474643964264483, pvalue=0.03132478983040782)"
      ]
     },
     "execution_count": 47,
     "metadata": {},
     "output_type": "execute_result"
    }
   ],
   "source": [
    "#Python use scipy stats.t-test related\n",
    "stats.ttest_rel(A,B)"
   ]
  },
  {
   "cell_type": "code",
   "execution_count": 48,
   "id": "41d3a32d-ead5-43f9-9403-3b2e8c50359f",
   "metadata": {},
   "outputs": [
    {
     "name": "stdout",
     "output_type": "stream",
     "text": [
      "2.5474643964264483\n"
     ]
    }
   ],
   "source": [
    "t_paired= ((mean_diff)/(std_diff/np.sqrt(10)))\n",
    "print(t_paired)"
   ]
  },
  {
   "cell_type": "markdown",
   "id": "a5607e97-7c17-4720-bffc-d4ca26ea484b",
   "metadata": {},
   "source": [
    "You can find the p-value here by finding the probability of finding a t-value of 2.548 using alpha = 0.05 and a two-sided test.  This is betwee n p=0.01 and p=0.025 by the table for dof=9, so double this is p=0.02 to 0.05.  The exact p-value found was p=0.031, so we can reject the null hypothesis and accept that there is indeed a difference in the mean difference.  This agrees with the CI above, which it always will.   "
   ]
  },
  {
   "cell_type": "markdown",
   "id": "372a1eaa-8d02-443b-9b4f-f4d9d963e46d",
   "metadata": {},
   "source": [
    "# Non-parametric independent samples test"
   ]
  },
  {
   "cell_type": "markdown",
   "id": "4714ed48-f345-4e56-bef2-f20059e3dd29",
   "metadata": {},
   "source": [
    "The effectiveness of advertising for two products (Brand X and Brand Y) was compared. Market research at a local shopping centre was carried out, with the participants being shown an advertizment for two brands of coffee, which they then rated on the overall likelihood of them buying the product (out of 10, with 10 being \"definitely going to buy the product\"). Half of the participants gave ratings for one of the products, the other half gave ratings for the other product. The data are a follows:"
   ]
  },
  {
   "cell_type": "code",
   "execution_count": 49,
   "id": "ee2e4bfc-35a0-456a-8c06-2895c3ca5b99",
   "metadata": {},
   "outputs": [],
   "source": [
    "BrandX=pd.Series([8,7,6,2,5,8,7,3])\n",
    "BrandY=pd.Series([9,9,7,8,10,8,6])"
   ]
  },
  {
   "cell_type": "markdown",
   "id": "58adac5d-6a3c-4fff-94e4-b3fd9037a1d8",
   "metadata": {},
   "source": [
    "This data is ordinal and we are unceratin about the use of a parametric test of mean, so decide to use a Mann Whitney U test to test if the distribution are the same in the population.\n",
    "\n",
    "Is there statistical evidence of a difference in ratings between the Brands?  "
   ]
  },
  {
   "cell_type": "code",
   "execution_count": 50,
   "id": "f46ecf87-ad76-46f5-94b0-2e19725d1873",
   "metadata": {},
   "outputs": [
    {
     "data": {
      "text/plain": [
       "<AxesSubplot:>"
      ]
     },
     "execution_count": 50,
     "metadata": {},
     "output_type": "execute_result"
    },
    {
     "data": {
      "image/png": "[encoded data removed]",
      "text/plain": [
       "<Figure size 432x288 with 1 Axes>"
      ]
     },
     "metadata": {
      "needs_background": "light"
     },
     "output_type": "display_data"
    }
   ],
   "source": [
    "# explore the data\n",
    "sns.boxplot(data=[BrandX,BrandY],showmeans=True)\n",
    "sns.swarmplot(data=[BrandX,BrandY])"
   ]
  },
  {
   "cell_type": "code",
   "execution_count": 52,
   "id": "8cdaa667-6c85-4d2e-932f-e9fff2798a8b",
   "metadata": {},
   "outputs": [
    {
     "data": {
      "text/plain": [
       "MannwhitneyuResult(statistic=9.5, pvalue=0.029839411362928826)"
      ]
     },
     "execution_count": 52,
     "metadata": {},
     "output_type": "execute_result"
    }
   ],
   "source": [
    "stats.mannwhitneyu(BrandX,BrandY,use_continuity=False,method='auto')"
   ]
  },
  {
   "cell_type": "markdown",
   "id": "7dc52263-720e-495c-8b38-76eab6491d97",
   "metadata": {},
   "source": [
    "Set up the hypothesis:  \\\n",
    "H0:  the distributions of the populatoins from which the samples were drawn are equal.  In general, we can state that this is showing a difference in the medians of the smaples. \\\n",
    "HA: the distributions are not equal.\n",
    "\n",
    "alpha=0.05"
   ]
  },
  {
   "cell_type": "markdown",
   "id": "6ebe5cfd-889b-48ab-ae40-7e4a91acec05",
   "metadata": {},
   "source": [
    "First, sort then rank all of the sample together.  For ties, assign a rank equal to the midpoint of the unadjusted rankings."
   ]
  },
  {
   "cell_type": "code",
   "execution_count": 53,
   "id": "67962058-fc0c-498a-a72a-67c060d00e83",
   "metadata": {},
   "outputs": [
    {
     "data": {
      "text/html": [
       "<div>\n",
       "<style scoped>\n",
       "    .dataframe tbody tr th:only-of-type {\n",
       "        vertical-align: middle;\n",
       "    }\n",
       "\n",
       "    .dataframe tbody tr th {\n",
       "        vertical-align: top;\n",
       "    }\n",
       "\n",
       "    .dataframe thead th {\n",
       "        text-align: right;\n",
       "    }\n",
       "</style>\n",
       "<table border=\"1\" class=\"dataframe\">\n",
       "  <thead>\n",
       "    <tr style=\"text-align: right;\">\n",
       "      <th></th>\n",
       "      <th>0</th>\n",
       "      <th>1</th>\n",
       "      <th>2</th>\n",
       "      <th>3</th>\n",
       "      <th>4</th>\n",
       "      <th>5</th>\n",
       "      <th>6</th>\n",
       "      <th>7</th>\n",
       "    </tr>\n",
       "  </thead>\n",
       "  <tbody>\n",
       "    <tr>\n",
       "      <th>0</th>\n",
       "      <td>2</td>\n",
       "      <td>3</td>\n",
       "      <td>5</td>\n",
       "      <td>6</td>\n",
       "      <td>7</td>\n",
       "      <td>7</td>\n",
       "      <td>8</td>\n",
       "      <td>8.0</td>\n",
       "    </tr>\n",
       "    <tr>\n",
       "      <th>1</th>\n",
       "      <td>6</td>\n",
       "      <td>7</td>\n",
       "      <td>8</td>\n",
       "      <td>8</td>\n",
       "      <td>9</td>\n",
       "      <td>9</td>\n",
       "      <td>10</td>\n",
       "      <td>NaN</td>\n",
       "    </tr>\n",
       "  </tbody>\n",
       "</table>\n",
       "</div>"
      ],
      "text/plain": [
       "   0  1  2  3  4  5   6    7\n",
       "0  2  3  5  6  7  7   8  8.0\n",
       "1  6  7  8  8  9  9  10  NaN"
      ]
     },
     "execution_count": 53,
     "metadata": {},
     "output_type": "execute_result"
    }
   ],
   "source": [
    "Ranks=pd.DataFrame([[8,7,6,2,5,8,7,3],[9,9,7,8,10,9,6]])\n",
    "Rankssorted=pd.DataFrame([[2,3,5,6,7,7,8,8],[6,7,8,8,9,9,10]])\n",
    "Rankssorted"
   ]
  },
  {
   "cell_type": "code",
   "execution_count": 54,
   "id": "25b168e3-5cb8-4f08-a601-62ef6cafbc74",
   "metadata": {},
   "outputs": [
    {
     "data": {
      "text/html": [
       "<div>\n",
       "<style scoped>\n",
       "    .dataframe tbody tr th:only-of-type {\n",
       "        vertical-align: middle;\n",
       "    }\n",
       "\n",
       "    .dataframe tbody tr th {\n",
       "        vertical-align: top;\n",
       "    }\n",
       "\n",
       "    .dataframe thead th {\n",
       "        text-align: right;\n",
       "    }\n",
       "</style>\n",
       "<table border=\"1\" class=\"dataframe\">\n",
       "  <thead>\n",
       "    <tr style=\"text-align: right;\">\n",
       "      <th></th>\n",
       "      <th>0</th>\n",
       "      <th>1</th>\n",
       "      <th>2</th>\n",
       "      <th>3</th>\n",
       "      <th>4</th>\n",
       "      <th>5</th>\n",
       "      <th>6</th>\n",
       "      <th>7</th>\n",
       "    </tr>\n",
       "  </thead>\n",
       "  <tbody>\n",
       "    <tr>\n",
       "      <th>0</th>\n",
       "      <td>1.0</td>\n",
       "      <td>2</td>\n",
       "      <td>3.0</td>\n",
       "      <td>4.5</td>\n",
       "      <td>7.0</td>\n",
       "      <td>7.0</td>\n",
       "      <td>10.5</td>\n",
       "      <td>10.5</td>\n",
       "    </tr>\n",
       "    <tr>\n",
       "      <th>1</th>\n",
       "      <td>4.5</td>\n",
       "      <td>7</td>\n",
       "      <td>10.5</td>\n",
       "      <td>10.5</td>\n",
       "      <td>13.5</td>\n",
       "      <td>13.5</td>\n",
       "      <td>15.0</td>\n",
       "      <td>NaN</td>\n",
       "    </tr>\n",
       "  </tbody>\n",
       "</table>\n",
       "</div>"
      ],
      "text/plain": [
       "     0  1     2     3     4     5     6     7\n",
       "0  1.0  2   3.0   4.5   7.0   7.0  10.5  10.5\n",
       "1  4.5  7  10.5  10.5  13.5  13.5  15.0   NaN"
      ]
     },
     "execution_count": 54,
     "metadata": {},
     "output_type": "execute_result"
    }
   ],
   "source": [
    "Ranksranked=pd.DataFrame([[1,2,3,4.5,7,7,10.5,10.5],[4.5,7,10.5,10.5,13.5,13.5,15]])\n",
    "Ranksranked"
   ]
  },
  {
   "cell_type": "markdown",
   "id": "549c9b9f-c094-4d46-a760-5c3a353aa487",
   "metadata": {},
   "source": [
    "sum the ranks:  BrandX = 45.5; BrandY=74.5"
   ]
  },
  {
   "cell_type": "markdown",
   "id": "d5e99c88-a39b-4745-a95b-647118c1c387",
   "metadata": {},
   "source": [
    "Calculate the test statistic U: \\\n",
    "U1 = n1n2 +0.5n1(n1 +1)−R1 \\\n",
    "U2= n1n2 +0.5n2 (n2 +1)− R2"
   ]
  },
  {
   "cell_type": "code",
   "execution_count": 55,
   "id": "a2431746-136f-492f-b3fd-c68567bc57e3",
   "metadata": {},
   "outputs": [
    {
     "name": "stdout",
     "output_type": "stream",
     "text": [
      "46.5\n",
      "9.5\n"
     ]
    }
   ],
   "source": [
    "U1=8*7+0.5*8*(9)-45.5\n",
    "U2=8*7+0.5*7*(8)-74.5\n",
    "print(U1)\n",
    "print(U2)"
   ]
  },
  {
   "cell_type": "markdown",
   "id": "af897807-2734-4e56-8c04-6b022cd18923",
   "metadata": {},
   "source": [
    "Use the smaller U value to compare with the critical U value at n1=8 and n2=7 at two-sided significance level=0.05.  Critical U=10. \\\n",
    "We reject the null hypothesis because 9.5<=10. To be significant, the test statistic U has to be equal to or less than the critical value.  We have shown that the populations of scores are not equal between the groups. "
   ]
  },
  {
   "cell_type": "markdown",
   "id": "8f150658-4a55-488d-9972-0205b38c3bca",
   "metadata": {},
   "source": [
    "# Non-parametric tests of paired samples:  Signed Rank Test \n",
    "\n",
    "H0:  The difference between pairs follows a symmetric distribution about 0; have the same distribution; medians are the same \\\n",
    "HA:  The differene between pairs does not follow a symetric distribution around 0\n",
    "\n",
    "We fail to reject the null hypothesis and stats that there is not enough evidnece to state that there is a differnce in the dsitributions.  "
   ]
  },
  {
   "cell_type": "code",
   "execution_count": 56,
   "id": "0cada8b6-8467-4086-bae1-2141a34f63f5",
   "metadata": {},
   "outputs": [
    {
     "data": {
      "text/plain": [
       "WilcoxonResult(statistic=4.0, pvalue=0.0546875)"
      ]
     },
     "execution_count": 56,
     "metadata": {},
     "output_type": "execute_result"
    }
   ],
   "source": [
    "BeforeTx=pd.Series([85,70,40,65,80,75,55,20])\n",
    "AfterTx=pd.Series([75,50,50,40,20,65,40,25])\n",
    "\n",
    "stats.wilcoxon(BeforeTx,AfterTx,alternative='two-sided')"
   ]
  },
  {
   "cell_type": "markdown",
   "id": "7edd5d1e-dff3-4db7-878f-e40bae259d06",
   "metadata": {},
   "source": [
    "Order the paired differences, ignoring the sign of the difference \\\n",
    "Rank the paired differences and give them their sign \\\n",
    "Sum the signed ranks, and show the absolute value \\\n",
    "Smaller of these signed ranks is your test statitsic \\\n",
    "Lookup the T value in a Wicoxon signed rank table adn compare with test statistic \\\n",
    "If the test statistic is less than the T value, then reject the null hypothesis. "
   ]
  },
  {
   "cell_type": "code",
   "execution_count": 57,
   "id": "cacc5429-99df-4735-9d5e-98f0a7d17f55",
   "metadata": {},
   "outputs": [
    {
     "data": {
      "text/plain": [
       "0    10\n",
       "1    20\n",
       "2   -10\n",
       "3    25\n",
       "4    60\n",
       "5    10\n",
       "6    15\n",
       "7    -5\n",
       "dtype: int64"
      ]
     },
     "execution_count": 57,
     "metadata": {},
     "output_type": "execute_result"
    }
   ],
   "source": [
    "Diff_Tx=(BeforeTx-AfterTx)\n",
    "Diff_Tx"
   ]
  },
  {
   "cell_type": "code",
   "execution_count": 58,
   "id": "11099ae4-30c7-4bcf-a0a0-ae5a103db2e9",
   "metadata": {},
   "outputs": [
    {
     "name": "stderr",
     "output_type": "stream",
     "text": [
      "C:\\Users\\nabil\\anaconda3\\lib\\site-packages\\statsmodels\\graphics\\gofplots.py:993: UserWarning: marker is redundantly defined by the 'marker' keyword argument and the fmt string \"bo\" (-> marker='o'). The keyword argument will take precedence.\n",
      "  ax.plot(x, y, fmt, **plot_style)\n"
     ]
    },
    {
     "data": {
      "image/png": "[encoded data removed]",
      "text/plain": [
       "<Figure size 432x288 with 1 Axes>"
      ]
     },
     "metadata": {
      "needs_background": "light"
     },
     "output_type": "display_data"
    }
   ],
   "source": [
    "Diff_Tx.sort_values()\n",
    "sm.qqplot(Diff_Tx,line='45',loc=np.mean(Diff_Tx),scale=np.std(Diff_Tx,ddof=1))\n",
    "plt.show()"
   ]
  },
  {
   "cell_type": "code",
   "execution_count": 59,
   "id": "2faa3b1b-2409-4201-91b1-4f17c9254bb8",
   "metadata": {},
   "outputs": [
    {
     "data": {
      "text/plain": [
       "ShapiroResult(statistic=0.9009402394294739, pvalue=0.2946343719959259)"
      ]
     },
     "execution_count": 59,
     "metadata": {},
     "output_type": "execute_result"
    }
   ],
   "source": [
    "stats.shapiro(Diff_Tx)"
   ]
  },
  {
   "cell_type": "code",
   "execution_count": 60,
   "id": "b9dce871-0b91-4a20-8a8a-e14fd22231d4",
   "metadata": {},
   "outputs": [],
   "source": [
    "Ordered_Diff=(-5,-10,10,10,15,20,25,60)\n",
    "Ranked_Diff_with_Signs=(-1,-3,3,3,5,6,7,8)\n",
    "Sum_Ranks_Neg= 4\n",
    "Sum_Rnaks_Pos=32"
   ]
  },
  {
   "cell_type": "markdown",
   "id": "58934d59-4082-4bba-a577-2382df4c564c",
   "metadata": {},
   "source": [
    "Signed_ranks=4 \\\n",
    "The T value in the table is 3 at dof=8 and alpha = 0.05.  Since 4 is not less than 3, we cannot reject the null hypotheiss and state that the distributions have not been shown to be significantly different.  "
   ]
  },
  {
   "cell_type": "code",
   "execution_count": 61,
   "id": "0882f27b-3971-4ba5-bf8a-05c3871804ca",
   "metadata": {},
   "outputs": [
    {
     "data": {
      "text/plain": [
       "Ttest_1sampResult(statistic=2.059964309956102, pvalue=0.07836922393445278)"
      ]
     },
     "execution_count": 61,
     "metadata": {},
     "output_type": "execute_result"
    }
   ],
   "source": [
    "# if you accepted that the differences were normally distributed\n",
    "scipy.stats.ttest_1samp(Ordered_Diff,0,alternative='two-sided')"
   ]
  },
  {
   "cell_type": "code",
   "execution_count": null,
   "id": "9596cec9-dddb-45a7-bba9-5e0b8403e5ac",
   "metadata": {},
   "outputs": [],
   "source": []
  },
  {
   "cell_type": "code",
   "execution_count": null,
   "id": "72224ebd-0b8d-4c53-a0f6-a1e8c6647415",
   "metadata": {},
   "outputs": [],
   "source": []
  }
 ],
 "metadata": {
  "kernelspec": {
   "display_name": "Python 3 (ipykernel)",
   "language": "python",
   "name": "python3"
  },
  "language_info": {
   "codemirror_mode": {
    "name": "ipython",
    "version": 3
   },
   "file_extension": ".py",
   "mimetype": "text/x-python",
   "name": "python",
   "nbconvert_exporter": "python",
   "pygments_lexer": "ipython3",
   "version": "3.8.8"
  }
 },
 "nbformat": 4,
 "nbformat_minor": 5
}
